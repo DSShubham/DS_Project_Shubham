{
 "cells": [
  {
   "cell_type": "code",
   "execution_count": 1,
   "id": "f6d1752b",
   "metadata": {},
   "outputs": [],
   "source": [
    "import numpy as np\n",
    "import pandas as pd\n",
    "import matplotlib.pyplot as plt\n",
    "import seaborn as sns\n",
    "%matplotlib inline\n",
    "import warnings\n",
    "warnings.filterwarnings('ignore')"
   ]
  },
  {
   "cell_type": "code",
   "execution_count": 2,
   "id": "b9dc8a41",
   "metadata": {},
   "outputs": [],
   "source": [
    "SB=pd.read_csv(\"C:\\\\Users\\\\shubh\\\\AI course Digicrome\\\\1. Python\\\\telcom_data.csv\")\n"
   ]
  },
  {
   "cell_type": "code",
   "execution_count": null,
   "id": "167d8f76",
   "metadata": {},
   "outputs": [],
   "source": []
  },
  {
   "cell_type": "markdown",
   "id": "641300b7",
   "metadata": {},
   "source": [
    "# Tele Task 4.1 "
   ]
  },
  {
   "cell_type": "code",
   "execution_count": 4,
   "id": "acdbabde",
   "metadata": {},
   "outputs": [],
   "source": [
    "session_frequency = SB.groupby(by=['MSISDN/Number'])['Dur. (ms)'].transform('count')"
   ]
  },
  {
   "cell_type": "code",
   "execution_count": 4,
   "id": "b6bdf908",
   "metadata": {},
   "outputs": [
    {
     "data": {
      "text/plain": [
       "150001"
      ]
     },
     "execution_count": 4,
     "metadata": {},
     "output_type": "execute_result"
    }
   ],
   "source": [
    "len(session_frequency)"
   ]
  },
  {
   "cell_type": "code",
   "execution_count": 5,
   "id": "99a42b90",
   "metadata": {},
   "outputs": [
    {
     "data": {
      "text/plain": [
       "150001"
      ]
     },
     "execution_count": 5,
     "metadata": {},
     "output_type": "execute_result"
    }
   ],
   "source": [
    "# Calculate session duration by subtracting \"End ms\" from \"Start ms\"\n",
    "Session_Duration = SB['Dur. (ms)']\n",
    "len(Session_Duration)"
   ]
  },
  {
   "cell_type": "code",
   "execution_count": 6,
   "id": "b48bae2c",
   "metadata": {},
   "outputs": [
    {
     "data": {
      "text/plain": [
       "150001"
      ]
     },
     "execution_count": 6,
     "metadata": {},
     "output_type": "execute_result"
    }
   ],
   "source": [
    "total_traffic = SB['Total DL (Bytes)'] + SB['Total UL (Bytes)']\n",
    "len(total_traffic)"
   ]
  },
  {
   "cell_type": "code",
   "execution_count": 7,
   "id": "6f509dc0",
   "metadata": {},
   "outputs": [],
   "source": [
    "SB['Session Frequency'] = session_frequency\n",
    "SB['Session Duration'] = Session_Duration\n",
    "SB['Total Traffic'] = total_traffic"
   ]
  },
  {
   "cell_type": "code",
   "execution_count": 9,
   "id": "9b165e4c",
   "metadata": {
    "scrolled": true
   },
   "outputs": [
    {
     "data": {
      "text/html": [
       "<div>\n",
       "<style scoped>\n",
       "    .dataframe tbody tr th:only-of-type {\n",
       "        vertical-align: middle;\n",
       "    }\n",
       "\n",
       "    .dataframe tbody tr th {\n",
       "        vertical-align: top;\n",
       "    }\n",
       "\n",
       "    .dataframe thead th {\n",
       "        text-align: right;\n",
       "    }\n",
       "</style>\n",
       "<table border=\"1\" class=\"dataframe\">\n",
       "  <thead>\n",
       "    <tr style=\"text-align: right;\">\n",
       "      <th></th>\n",
       "      <th>Bearer Id</th>\n",
       "      <th>Start</th>\n",
       "      <th>Start ms</th>\n",
       "      <th>End</th>\n",
       "      <th>End ms</th>\n",
       "      <th>Dur. (ms)</th>\n",
       "      <th>IMSI</th>\n",
       "      <th>MSISDN/Number</th>\n",
       "      <th>IMEI</th>\n",
       "      <th>Last Location Name</th>\n",
       "      <th>...</th>\n",
       "      <th>Netflix UL (Bytes)</th>\n",
       "      <th>Gaming DL (Bytes)</th>\n",
       "      <th>Gaming UL (Bytes)</th>\n",
       "      <th>Other DL (Bytes)</th>\n",
       "      <th>Other UL (Bytes)</th>\n",
       "      <th>Total UL (Bytes)</th>\n",
       "      <th>Total DL (Bytes)</th>\n",
       "      <th>Session Frequency</th>\n",
       "      <th>Session Duration</th>\n",
       "      <th>Total Traffic</th>\n",
       "    </tr>\n",
       "  </thead>\n",
       "  <tbody>\n",
       "    <tr>\n",
       "      <th>0</th>\n",
       "      <td>1.311450e+19</td>\n",
       "      <td>04-04-2019 12:01</td>\n",
       "      <td>770.0</td>\n",
       "      <td>25-04-2019 14:35</td>\n",
       "      <td>662.0</td>\n",
       "      <td>1823652.0</td>\n",
       "      <td>2.082010e+14</td>\n",
       "      <td>3.366496e+10</td>\n",
       "      <td>3.552120e+13</td>\n",
       "      <td>9.16457E+15</td>\n",
       "      <td>...</td>\n",
       "      <td>9656251.00</td>\n",
       "      <td>278082303.0</td>\n",
       "      <td>1.434415e+07</td>\n",
       "      <td>171744450.0</td>\n",
       "      <td>8.814393e+06</td>\n",
       "      <td>36749741.0</td>\n",
       "      <td>308879636.0</td>\n",
       "      <td>2.0</td>\n",
       "      <td>1823652.0</td>\n",
       "      <td>345629377.0</td>\n",
       "    </tr>\n",
       "    <tr>\n",
       "      <th>1</th>\n",
       "      <td>1.311450e+19</td>\n",
       "      <td>09-04-2019 13:04</td>\n",
       "      <td>235.0</td>\n",
       "      <td>25-04-2019 08:15</td>\n",
       "      <td>606.0</td>\n",
       "      <td>1365104.0</td>\n",
       "      <td>2.082020e+14</td>\n",
       "      <td>3.368185e+10</td>\n",
       "      <td>3.579400e+13</td>\n",
       "      <td>L77566A</td>\n",
       "      <td>...</td>\n",
       "      <td>17227132.00</td>\n",
       "      <td>608750074.0</td>\n",
       "      <td>1.170709e+06</td>\n",
       "      <td>526904238.0</td>\n",
       "      <td>1.505514e+07</td>\n",
       "      <td>53800391.0</td>\n",
       "      <td>653384965.0</td>\n",
       "      <td>2.0</td>\n",
       "      <td>1365104.0</td>\n",
       "      <td>707185356.0</td>\n",
       "    </tr>\n",
       "    <tr>\n",
       "      <th>2</th>\n",
       "      <td>1.311450e+19</td>\n",
       "      <td>09-04-2019 17:42</td>\n",
       "      <td>1.0</td>\n",
       "      <td>25-04-2019 11:58</td>\n",
       "      <td>652.0</td>\n",
       "      <td>1361762.0</td>\n",
       "      <td>2.082000e+14</td>\n",
       "      <td>3.376063e+10</td>\n",
       "      <td>3.528150e+13</td>\n",
       "      <td>D42335A</td>\n",
       "      <td>...</td>\n",
       "      <td>6163408.00</td>\n",
       "      <td>229584621.0</td>\n",
       "      <td>3.956300e+05</td>\n",
       "      <td>410692588.0</td>\n",
       "      <td>4.215763e+06</td>\n",
       "      <td>27883638.0</td>\n",
       "      <td>279807335.0</td>\n",
       "      <td>1.0</td>\n",
       "      <td>1361762.0</td>\n",
       "      <td>307690973.0</td>\n",
       "    </tr>\n",
       "    <tr>\n",
       "      <th>3</th>\n",
       "      <td>1.311450e+19</td>\n",
       "      <td>10-04-2019 00:31</td>\n",
       "      <td>486.0</td>\n",
       "      <td>25-04-2019 07:36</td>\n",
       "      <td>171.0</td>\n",
       "      <td>1321509.0</td>\n",
       "      <td>2.082010e+14</td>\n",
       "      <td>3.375034e+10</td>\n",
       "      <td>3.535660e+13</td>\n",
       "      <td>T21824A</td>\n",
       "      <td>...</td>\n",
       "      <td>1097942.00</td>\n",
       "      <td>799538153.0</td>\n",
       "      <td>1.084972e+07</td>\n",
       "      <td>749039933.0</td>\n",
       "      <td>1.279728e+07</td>\n",
       "      <td>43324218.0</td>\n",
       "      <td>846028530.0</td>\n",
       "      <td>1.0</td>\n",
       "      <td>1321509.0</td>\n",
       "      <td>889352748.0</td>\n",
       "    </tr>\n",
       "    <tr>\n",
       "      <th>4</th>\n",
       "      <td>1.311450e+19</td>\n",
       "      <td>12-04-2019 20:10</td>\n",
       "      <td>565.0</td>\n",
       "      <td>25-04-2019 10:40</td>\n",
       "      <td>954.0</td>\n",
       "      <td>1089009.0</td>\n",
       "      <td>2.082010e+14</td>\n",
       "      <td>3.369980e+10</td>\n",
       "      <td>3.540700e+13</td>\n",
       "      <td>D88865A</td>\n",
       "      <td>...</td>\n",
       "      <td>415218.00</td>\n",
       "      <td>527707248.0</td>\n",
       "      <td>3.529801e+06</td>\n",
       "      <td>550709500.0</td>\n",
       "      <td>1.391032e+07</td>\n",
       "      <td>38542814.0</td>\n",
       "      <td>569138589.0</td>\n",
       "      <td>1.0</td>\n",
       "      <td>1089009.0</td>\n",
       "      <td>607681403.0</td>\n",
       "    </tr>\n",
       "    <tr>\n",
       "      <th>...</th>\n",
       "      <td>...</td>\n",
       "      <td>...</td>\n",
       "      <td>...</td>\n",
       "      <td>...</td>\n",
       "      <td>...</td>\n",
       "      <td>...</td>\n",
       "      <td>...</td>\n",
       "      <td>...</td>\n",
       "      <td>...</td>\n",
       "      <td>...</td>\n",
       "      <td>...</td>\n",
       "      <td>...</td>\n",
       "      <td>...</td>\n",
       "      <td>...</td>\n",
       "      <td>...</td>\n",
       "      <td>...</td>\n",
       "      <td>...</td>\n",
       "      <td>...</td>\n",
       "      <td>...</td>\n",
       "      <td>...</td>\n",
       "      <td>...</td>\n",
       "    </tr>\n",
       "    <tr>\n",
       "      <th>149996</th>\n",
       "      <td>7.277830e+18</td>\n",
       "      <td>29-04-2019 07:28</td>\n",
       "      <td>451.0</td>\n",
       "      <td>30-04-2019 06:02</td>\n",
       "      <td>214.0</td>\n",
       "      <td>81230.0</td>\n",
       "      <td>2.082020e+14</td>\n",
       "      <td>3.365069e+10</td>\n",
       "      <td>3.548310e+13</td>\n",
       "      <td>D20434A</td>\n",
       "      <td>...</td>\n",
       "      <td>19678161.00</td>\n",
       "      <td>526609673.0</td>\n",
       "      <td>9.197207e+06</td>\n",
       "      <td>3264510.0</td>\n",
       "      <td>1.348742e+07</td>\n",
       "      <td>57628851.0</td>\n",
       "      <td>574175259.0</td>\n",
       "      <td>1.0</td>\n",
       "      <td>81230.0</td>\n",
       "      <td>631804110.0</td>\n",
       "    </tr>\n",
       "    <tr>\n",
       "      <th>149997</th>\n",
       "      <td>7.349880e+18</td>\n",
       "      <td>29-04-2019 07:28</td>\n",
       "      <td>483.0</td>\n",
       "      <td>30-04-2019 10:41</td>\n",
       "      <td>187.0</td>\n",
       "      <td>97970.0</td>\n",
       "      <td>2.082020e+14</td>\n",
       "      <td>3.366345e+10</td>\n",
       "      <td>3.566050e+13</td>\n",
       "      <td>D10223C</td>\n",
       "      <td>...</td>\n",
       "      <td>21293148.00</td>\n",
       "      <td>626893062.0</td>\n",
       "      <td>4.735033e+06</td>\n",
       "      <td>712180387.0</td>\n",
       "      <td>2.457758e+06</td>\n",
       "      <td>39135081.0</td>\n",
       "      <td>666648844.0</td>\n",
       "      <td>2.0</td>\n",
       "      <td>97970.0</td>\n",
       "      <td>705783925.0</td>\n",
       "    </tr>\n",
       "    <tr>\n",
       "      <th>149998</th>\n",
       "      <td>1.311450e+19</td>\n",
       "      <td>29-04-2019 07:28</td>\n",
       "      <td>283.0</td>\n",
       "      <td>30-04-2019 10:46</td>\n",
       "      <td>810.0</td>\n",
       "      <td>98249.0</td>\n",
       "      <td>2.082020e+14</td>\n",
       "      <td>3.362189e+10</td>\n",
       "      <td>3.572120e+13</td>\n",
       "      <td>T51102A</td>\n",
       "      <td>...</td>\n",
       "      <td>5065760.00</td>\n",
       "      <td>553539484.0</td>\n",
       "      <td>1.339432e+07</td>\n",
       "      <td>121100856.0</td>\n",
       "      <td>1.131473e+07</td>\n",
       "      <td>34912224.0</td>\n",
       "      <td>592786405.0</td>\n",
       "      <td>1.0</td>\n",
       "      <td>98249.0</td>\n",
       "      <td>627698629.0</td>\n",
       "    </tr>\n",
       "    <tr>\n",
       "      <th>149999</th>\n",
       "      <td>1.311450e+19</td>\n",
       "      <td>29-04-2019 07:28</td>\n",
       "      <td>696.0</td>\n",
       "      <td>30-04-2019 10:40</td>\n",
       "      <td>327.0</td>\n",
       "      <td>97910.0</td>\n",
       "      <td>2.082020e+14</td>\n",
       "      <td>3.361962e+10</td>\n",
       "      <td>8.618620e+13</td>\n",
       "      <td>L88342B</td>\n",
       "      <td>...</td>\n",
       "      <td>13172589.00</td>\n",
       "      <td>352536971.0</td>\n",
       "      <td>2.529475e+06</td>\n",
       "      <td>814713113.0</td>\n",
       "      <td>1.406930e+06</td>\n",
       "      <td>29626096.0</td>\n",
       "      <td>371895920.0</td>\n",
       "      <td>1.0</td>\n",
       "      <td>97910.0</td>\n",
       "      <td>401522016.0</td>\n",
       "    </tr>\n",
       "    <tr>\n",
       "      <th>150000</th>\n",
       "      <td>NaN</td>\n",
       "      <td>NaN</td>\n",
       "      <td>NaN</td>\n",
       "      <td>NaN</td>\n",
       "      <td>NaN</td>\n",
       "      <td>NaN</td>\n",
       "      <td>NaN</td>\n",
       "      <td>NaN</td>\n",
       "      <td>NaN</td>\n",
       "      <td>NaN</td>\n",
       "      <td>...</td>\n",
       "      <td>11001754.82</td>\n",
       "      <td>422044702.6</td>\n",
       "      <td>8.288398e+06</td>\n",
       "      <td>421100544.2</td>\n",
       "      <td>8.264799e+06</td>\n",
       "      <td>NaN</td>\n",
       "      <td>NaN</td>\n",
       "      <td>NaN</td>\n",
       "      <td>NaN</td>\n",
       "      <td>NaN</td>\n",
       "    </tr>\n",
       "  </tbody>\n",
       "</table>\n",
       "<p>150001 rows × 58 columns</p>\n",
       "</div>"
      ],
      "text/plain": [
       "           Bearer Id             Start  Start ms               End  End ms  \\\n",
       "0       1.311450e+19  04-04-2019 12:01     770.0  25-04-2019 14:35   662.0   \n",
       "1       1.311450e+19  09-04-2019 13:04     235.0  25-04-2019 08:15   606.0   \n",
       "2       1.311450e+19  09-04-2019 17:42       1.0  25-04-2019 11:58   652.0   \n",
       "3       1.311450e+19  10-04-2019 00:31     486.0  25-04-2019 07:36   171.0   \n",
       "4       1.311450e+19  12-04-2019 20:10     565.0  25-04-2019 10:40   954.0   \n",
       "...              ...               ...       ...               ...     ...   \n",
       "149996  7.277830e+18  29-04-2019 07:28     451.0  30-04-2019 06:02   214.0   \n",
       "149997  7.349880e+18  29-04-2019 07:28     483.0  30-04-2019 10:41   187.0   \n",
       "149998  1.311450e+19  29-04-2019 07:28     283.0  30-04-2019 10:46   810.0   \n",
       "149999  1.311450e+19  29-04-2019 07:28     696.0  30-04-2019 10:40   327.0   \n",
       "150000           NaN               NaN       NaN               NaN     NaN   \n",
       "\n",
       "        Dur. (ms)          IMSI  MSISDN/Number          IMEI  \\\n",
       "0       1823652.0  2.082010e+14   3.366496e+10  3.552120e+13   \n",
       "1       1365104.0  2.082020e+14   3.368185e+10  3.579400e+13   \n",
       "2       1361762.0  2.082000e+14   3.376063e+10  3.528150e+13   \n",
       "3       1321509.0  2.082010e+14   3.375034e+10  3.535660e+13   \n",
       "4       1089009.0  2.082010e+14   3.369980e+10  3.540700e+13   \n",
       "...           ...           ...            ...           ...   \n",
       "149996    81230.0  2.082020e+14   3.365069e+10  3.548310e+13   \n",
       "149997    97970.0  2.082020e+14   3.366345e+10  3.566050e+13   \n",
       "149998    98249.0  2.082020e+14   3.362189e+10  3.572120e+13   \n",
       "149999    97910.0  2.082020e+14   3.361962e+10  8.618620e+13   \n",
       "150000        NaN           NaN            NaN           NaN   \n",
       "\n",
       "       Last Location Name  ...  Netflix UL (Bytes)  Gaming DL (Bytes)  \\\n",
       "0             9.16457E+15  ...          9656251.00        278082303.0   \n",
       "1                 L77566A  ...         17227132.00        608750074.0   \n",
       "2                 D42335A  ...          6163408.00        229584621.0   \n",
       "3                 T21824A  ...          1097942.00        799538153.0   \n",
       "4                 D88865A  ...           415218.00        527707248.0   \n",
       "...                   ...  ...                 ...                ...   \n",
       "149996            D20434A  ...         19678161.00        526609673.0   \n",
       "149997            D10223C  ...         21293148.00        626893062.0   \n",
       "149998            T51102A  ...          5065760.00        553539484.0   \n",
       "149999            L88342B  ...         13172589.00        352536971.0   \n",
       "150000                NaN  ...         11001754.82        422044702.6   \n",
       "\n",
       "        Gaming UL (Bytes)  Other DL (Bytes)  Other UL (Bytes)  \\\n",
       "0            1.434415e+07       171744450.0      8.814393e+06   \n",
       "1            1.170709e+06       526904238.0      1.505514e+07   \n",
       "2            3.956300e+05       410692588.0      4.215763e+06   \n",
       "3            1.084972e+07       749039933.0      1.279728e+07   \n",
       "4            3.529801e+06       550709500.0      1.391032e+07   \n",
       "...                   ...               ...               ...   \n",
       "149996       9.197207e+06         3264510.0      1.348742e+07   \n",
       "149997       4.735033e+06       712180387.0      2.457758e+06   \n",
       "149998       1.339432e+07       121100856.0      1.131473e+07   \n",
       "149999       2.529475e+06       814713113.0      1.406930e+06   \n",
       "150000       8.288398e+06       421100544.2      8.264799e+06   \n",
       "\n",
       "        Total UL (Bytes)  Total DL (Bytes)  Session Frequency  \\\n",
       "0             36749741.0       308879636.0                2.0   \n",
       "1             53800391.0       653384965.0                2.0   \n",
       "2             27883638.0       279807335.0                1.0   \n",
       "3             43324218.0       846028530.0                1.0   \n",
       "4             38542814.0       569138589.0                1.0   \n",
       "...                  ...               ...                ...   \n",
       "149996        57628851.0       574175259.0                1.0   \n",
       "149997        39135081.0       666648844.0                2.0   \n",
       "149998        34912224.0       592786405.0                1.0   \n",
       "149999        29626096.0       371895920.0                1.0   \n",
       "150000               NaN               NaN                NaN   \n",
       "\n",
       "        Session Duration  Total Traffic  \n",
       "0              1823652.0    345629377.0  \n",
       "1              1365104.0    707185356.0  \n",
       "2              1361762.0    307690973.0  \n",
       "3              1321509.0    889352748.0  \n",
       "4              1089009.0    607681403.0  \n",
       "...                  ...            ...  \n",
       "149996           81230.0    631804110.0  \n",
       "149997           97970.0    705783925.0  \n",
       "149998           98249.0    627698629.0  \n",
       "149999           97910.0    401522016.0  \n",
       "150000               NaN            NaN  \n",
       "\n",
       "[150001 rows x 58 columns]"
      ]
     },
     "execution_count": 9,
     "metadata": {},
     "output_type": "execute_result"
    }
   ],
   "source": [
    "SB"
   ]
  },
  {
   "cell_type": "code",
   "execution_count": 11,
   "id": "30e2bd5b",
   "metadata": {},
   "outputs": [
    {
     "data": {
      "text/plain": [
       "Index(['Bearer Id', 'Start', 'Start ms', 'End', 'End ms', 'Dur. (ms)', 'IMSI',\n",
       "       'MSISDN/Number', 'IMEI', 'Last Location Name', 'Avg RTT DL (ms)',\n",
       "       'Avg RTT UL (ms)', 'Avg Bearer TP DL (kbps)', 'Avg Bearer TP UL (kbps)',\n",
       "       'TCP DL Retrans. Vol (Bytes)', 'TCP UL Retrans. Vol (Bytes)',\n",
       "       'DL TP < 50 Kbps (%)', '50 Kbps < DL TP < 250 Kbps (%)',\n",
       "       '250 Kbps < DL TP < 1 Mbps (%)', 'DL TP > 1 Mbps (%)',\n",
       "       'UL TP < 10 Kbps (%)', '10 Kbps < UL TP < 50 Kbps (%)',\n",
       "       '50 Kbps < UL TP < 300 Kbps (%)', 'UL TP > 300 Kbps (%)',\n",
       "       'HTTP DL (Bytes)', 'HTTP UL (Bytes)', 'Activity Duration DL (ms)',\n",
       "       'Activity Duration UL (ms)', 'Dur. (ms).1', 'Handset Manufacturer',\n",
       "       'Handset Type', 'Nb of sec with 125000B < Vol DL',\n",
       "       'Nb of sec with 1250B < Vol UL < 6250B',\n",
       "       'Nb of sec with 31250B < Vol DL < 125000B',\n",
       "       'Nb of sec with 37500B < Vol UL',\n",
       "       'Nb of sec with 6250B < Vol DL < 31250B',\n",
       "       'Nb of sec with 6250B < Vol UL < 37500B',\n",
       "       'Nb of sec with Vol DL < 6250B', 'Nb of sec with Vol UL < 1250B',\n",
       "       'Social Media DL (Bytes)', 'Social Media UL (Bytes)',\n",
       "       'Google DL (Bytes)', 'Google UL (Bytes)', 'Email DL (Bytes)',\n",
       "       'Email UL (Bytes)', 'Youtube DL (Bytes)', 'Youtube UL (Bytes)',\n",
       "       'Netflix DL (Bytes)', 'Netflix UL (Bytes)', 'Gaming DL (Bytes)',\n",
       "       'Gaming UL (Bytes)', 'Other DL (Bytes)', 'Other UL (Bytes)',\n",
       "       'Total UL (Bytes)', 'Total DL (Bytes)', 'Session Frequency',\n",
       "       'Session Duration', 'Total Traffic'],\n",
       "      dtype='object')"
      ]
     },
     "execution_count": 11,
     "metadata": {},
     "output_type": "execute_result"
    }
   ],
   "source": [
    "SB.columns"
   ]
  },
  {
   "cell_type": "code",
   "execution_count": 15,
   "id": "a572de2c",
   "metadata": {},
   "outputs": [],
   "source": [
    "# Aggregate the metrics per customer id (MSISDN) and report the top 10 customers per engagement metric\n",
    "aggregated_data = SB.groupby('MSISDN/Number').agg({\n",
    "    'Session Frequency': 'sum',\n",
    "    'Session Duration': 'sum',\n",
    "    'Total Traffic': 'sum',})"
   ]
  },
  {
   "cell_type": "code",
   "execution_count": 16,
   "id": "61f858f4",
   "metadata": {},
   "outputs": [
    {
     "data": {
      "text/html": [
       "<div>\n",
       "<style scoped>\n",
       "    .dataframe tbody tr th:only-of-type {\n",
       "        vertical-align: middle;\n",
       "    }\n",
       "\n",
       "    .dataframe tbody tr th {\n",
       "        vertical-align: top;\n",
       "    }\n",
       "\n",
       "    .dataframe thead th {\n",
       "        text-align: right;\n",
       "    }\n",
       "</style>\n",
       "<table border=\"1\" class=\"dataframe\">\n",
       "  <thead>\n",
       "    <tr style=\"text-align: right;\">\n",
       "      <th></th>\n",
       "      <th>Session Frequency</th>\n",
       "      <th>Session Duration</th>\n",
       "      <th>Total Traffic</th>\n",
       "    </tr>\n",
       "    <tr>\n",
       "      <th>MSISDN/Number</th>\n",
       "      <th></th>\n",
       "      <th></th>\n",
       "      <th></th>\n",
       "    </tr>\n",
       "  </thead>\n",
       "  <tbody>\n",
       "    <tr>\n",
       "      <th>3.360100e+10</th>\n",
       "      <td>1.0</td>\n",
       "      <td>116720.0</td>\n",
       "      <td>8.786906e+08</td>\n",
       "    </tr>\n",
       "    <tr>\n",
       "      <th>3.360100e+10</th>\n",
       "      <td>1.0</td>\n",
       "      <td>181230.0</td>\n",
       "      <td>1.568596e+08</td>\n",
       "    </tr>\n",
       "    <tr>\n",
       "      <th>3.360100e+10</th>\n",
       "      <td>1.0</td>\n",
       "      <td>134969.0</td>\n",
       "      <td>5.959665e+08</td>\n",
       "    </tr>\n",
       "    <tr>\n",
       "      <th>3.360101e+10</th>\n",
       "      <td>1.0</td>\n",
       "      <td>49878.0</td>\n",
       "      <td>4.223207e+08</td>\n",
       "    </tr>\n",
       "    <tr>\n",
       "      <th>3.360101e+10</th>\n",
       "      <td>4.0</td>\n",
       "      <td>37104.0</td>\n",
       "      <td>1.457411e+09</td>\n",
       "    </tr>\n",
       "    <tr>\n",
       "      <th>...</th>\n",
       "      <td>...</td>\n",
       "      <td>...</td>\n",
       "      <td>...</td>\n",
       "    </tr>\n",
       "    <tr>\n",
       "      <th>3.379000e+10</th>\n",
       "      <td>1.0</td>\n",
       "      <td>8810.0</td>\n",
       "      <td>7.146416e+08</td>\n",
       "    </tr>\n",
       "    <tr>\n",
       "      <th>3.379000e+10</th>\n",
       "      <td>1.0</td>\n",
       "      <td>140988.0</td>\n",
       "      <td>4.803073e+08</td>\n",
       "    </tr>\n",
       "    <tr>\n",
       "      <th>3.197020e+12</th>\n",
       "      <td>1.0</td>\n",
       "      <td>877385.0</td>\n",
       "      <td>2.321240e+08</td>\n",
       "    </tr>\n",
       "    <tr>\n",
       "      <th>3.370000e+14</th>\n",
       "      <td>1.0</td>\n",
       "      <td>253030.0</td>\n",
       "      <td>5.962878e+08</td>\n",
       "    </tr>\n",
       "    <tr>\n",
       "      <th>8.823970e+14</th>\n",
       "      <td>1.0</td>\n",
       "      <td>869844.0</td>\n",
       "      <td>1.391536e+08</td>\n",
       "    </tr>\n",
       "  </tbody>\n",
       "</table>\n",
       "<p>106856 rows × 3 columns</p>\n",
       "</div>"
      ],
      "text/plain": [
       "               Session Frequency  Session Duration  Total Traffic\n",
       "MSISDN/Number                                                    \n",
       "3.360100e+10                 1.0          116720.0   8.786906e+08\n",
       "3.360100e+10                 1.0          181230.0   1.568596e+08\n",
       "3.360100e+10                 1.0          134969.0   5.959665e+08\n",
       "3.360101e+10                 1.0           49878.0   4.223207e+08\n",
       "3.360101e+10                 4.0           37104.0   1.457411e+09\n",
       "...                          ...               ...            ...\n",
       "3.379000e+10                 1.0            8810.0   7.146416e+08\n",
       "3.379000e+10                 1.0          140988.0   4.803073e+08\n",
       "3.197020e+12                 1.0          877385.0   2.321240e+08\n",
       "3.370000e+14                 1.0          253030.0   5.962878e+08\n",
       "8.823970e+14                 1.0          869844.0   1.391536e+08\n",
       "\n",
       "[106856 rows x 3 columns]"
      ]
     },
     "execution_count": 16,
     "metadata": {},
     "output_type": "execute_result"
    }
   ],
   "source": [
    "aggregated_data"
   ]
  },
  {
   "cell_type": "code",
   "execution_count": 17,
   "id": "debf9a21",
   "metadata": {
    "scrolled": true
   },
   "outputs": [
    {
     "data": {
      "image/png": "[encoded data removed]",
      "text/plain": [
       "<Figure size 500x500 with 1 Axes>"
      ]
     },
     "metadata": {},
     "output_type": "display_data"
    }
   ],
   "source": [
    "fig,ax = plt.subplots(nrows = 1,ncols = 1,figsize = (5,5))\n",
    "\n",
    "colors = ['#7789B2','#7789B2']\n",
    "plt.subplot(1,1,1)\n",
    "sns.heatmap(aggregated_data.describe().T[['mean']],\n",
    "            cmap = 'Greens',\n",
    "            annot = True,\n",
    "            fmt = '.2f',\n",
    "            linecolor = 'black',\n",
    "            linewidths = 0.4,\n",
    "            cbar = False);\n",
    "plt.title('Mean Values');\n",
    "\n",
    "fig.tight_layout(pad = 4)"
   ]
  },
  {
   "cell_type": "markdown",
   "id": "d22c68ef",
   "metadata": {},
   "source": [
    "#### Data Scaling"
   ]
  },
  {
   "cell_type": "code",
   "execution_count": 18,
   "id": "86aa09d0",
   "metadata": {},
   "outputs": [],
   "source": [
    "from sklearn.preprocessing import MinMaxScaler,StandardScaler\n",
    "mms = MinMaxScaler() # Normalization\n",
    "ss = StandardScaler() # Standardization\n",
    "from sklearn.cluster import KMeans\n",
    "kmeans=KMeans()"
   ]
  },
  {
   "cell_type": "code",
   "execution_count": 19,
   "id": "3a5aa886",
   "metadata": {},
   "outputs": [],
   "source": [
    "aggregated_data['Session Frequency']=mms.fit_transform(aggregated_data[['Session Frequency']])\n",
    "aggregated_data['Session Duration']=mms.fit_transform(aggregated_data[['Session Duration']])\n",
    "aggregated_data['Total Traffic']=mms.fit_transform(aggregated_data[['Total Traffic']])\n"
   ]
  },
  {
   "cell_type": "code",
   "execution_count": 20,
   "id": "bba6648b",
   "metadata": {
    "scrolled": true
   },
   "outputs": [
    {
     "data": {
      "image/png": "[encoded data removed]",
      "text/plain": [
       "<Figure size 2000x500 with 1 Axes>"
      ]
     },
     "metadata": {},
     "output_type": "display_data"
    }
   ],
   "source": [
    "sse = {};\n",
    "kmax = 10\n",
    "fig = plt.subplots(figsize = (20,5))\n",
    "\n",
    "# Elbow Method :\n",
    "for k in range(1, 10):\n",
    "    kmeans = KMeans(n_clusters=k, max_iter=1000).fit(aggregated_data)\n",
    "    sse[k] = kmeans.inertia_ # Inertia: Sum of distances of samples to their closest cluster center\n",
    "sns.lineplot(x = list(sse.keys()), y = list(sse.values()));\n",
    "plt.title('Elbow Method')\n",
    "plt.xlabel(\"k : Number of cluster\")\n",
    "plt.ylabel(\"Sum of Squared Error\")\n",
    "plt.grid()"
   ]
  },
  {
   "cell_type": "code",
   "execution_count": 21,
   "id": "e0bbea7b",
   "metadata": {},
   "outputs": [],
   "source": [
    "user_data = aggregated_data[['Session Frequency', 'Session Duration', 'Total Traffic']].values"
   ]
  },
  {
   "cell_type": "code",
   "execution_count": 22,
   "id": "c8233f88",
   "metadata": {},
   "outputs": [],
   "source": [
    "model = KMeans(n_clusters = 2,\n",
    "               max_iter = 1000)"
   ]
  },
  {
   "cell_type": "code",
   "execution_count": 23,
   "id": "b03a54a9",
   "metadata": {},
   "outputs": [
    {
     "data": {
      "text/plain": [
       "KMeans(max_iter=1000, n_clusters=2)"
      ]
     },
     "execution_count": 23,
     "metadata": {},
     "output_type": "execute_result"
    }
   ],
   "source": [
    "model.fit(user_data)"
   ]
  },
  {
   "cell_type": "code",
   "execution_count": 24,
   "id": "5e55b8ef",
   "metadata": {},
   "outputs": [],
   "source": [
    "# Finding the cluster centroids\n",
    "cluster = model.cluster_centers_"
   ]
  },
  {
   "cell_type": "code",
   "execution_count": 25,
   "id": "5a024946",
   "metadata": {},
   "outputs": [
    {
     "data": {
      "text/plain": [
       "array([[0.00149714, 0.00591889, 0.05700515],\n",
       "       [0.02481109, 0.0166303 , 0.17671077]])"
      ]
     },
     "execution_count": 25,
     "metadata": {},
     "output_type": "execute_result"
    }
   ],
   "source": [
    "cluster"
   ]
  },
  {
   "cell_type": "code",
   "execution_count": 26,
   "id": "9d53b1bd",
   "metadata": {},
   "outputs": [
    {
     "data": {
      "text/plain": [
       "array([0, 0, 0, ..., 0, 0, 0])"
      ]
     },
     "execution_count": 26,
     "metadata": {},
     "output_type": "execute_result"
    }
   ],
   "source": [
    "labels = model.labels_\n",
    "labels"
   ]
  },
  {
   "cell_type": "code",
   "execution_count": 27,
   "id": "923c08d9",
   "metadata": {},
   "outputs": [],
   "source": [
    "centroids = np.array(cluster)"
   ]
  },
  {
   "cell_type": "code",
   "execution_count": 28,
   "id": "a1e68132",
   "metadata": {},
   "outputs": [
    {
     "data": {
      "text/plain": [
       "array([[0.00149714, 0.00591889, 0.05700515],\n",
       "       [0.02481109, 0.0166303 , 0.17671077]])"
      ]
     },
     "execution_count": 28,
     "metadata": {},
     "output_type": "execute_result"
    }
   ],
   "source": [
    "centroids"
   ]
  },
  {
   "cell_type": "code",
   "execution_count": 29,
   "id": "a9991d1b",
   "metadata": {},
   "outputs": [
    {
     "data": {
      "text/html": [
       "<div>\n",
       "<style scoped>\n",
       "    .dataframe tbody tr th:only-of-type {\n",
       "        vertical-align: middle;\n",
       "    }\n",
       "\n",
       "    .dataframe tbody tr th {\n",
       "        vertical-align: top;\n",
       "    }\n",
       "\n",
       "    .dataframe thead th {\n",
       "        text-align: right;\n",
       "    }\n",
       "</style>\n",
       "<table border=\"1\" class=\"dataframe\">\n",
       "  <thead>\n",
       "    <tr style=\"text-align: right;\">\n",
       "      <th></th>\n",
       "      <th>Session Frequency</th>\n",
       "      <th>Session Duration</th>\n",
       "      <th>Total Traffic</th>\n",
       "      <th>Engagement Score</th>\n",
       "    </tr>\n",
       "    <tr>\n",
       "      <th>MSISDN/Number</th>\n",
       "      <th></th>\n",
       "      <th></th>\n",
       "      <th></th>\n",
       "      <th></th>\n",
       "    </tr>\n",
       "  </thead>\n",
       "  <tbody>\n",
       "    <tr>\n",
       "      <th>3.360100e+10</th>\n",
       "      <td>0.000000</td>\n",
       "      <td>0.005908</td>\n",
       "      <td>0.095931</td>\n",
       "      <td>0.023263</td>\n",
       "    </tr>\n",
       "    <tr>\n",
       "      <th>3.360100e+10</th>\n",
       "      <td>0.000000</td>\n",
       "      <td>0.009387</td>\n",
       "      <td>0.014026</td>\n",
       "      <td>0.025866</td>\n",
       "    </tr>\n",
       "    <tr>\n",
       "      <th>3.360100e+10</th>\n",
       "      <td>0.000000</td>\n",
       "      <td>0.006892</td>\n",
       "      <td>0.063851</td>\n",
       "      <td>0.003463</td>\n",
       "    </tr>\n",
       "    <tr>\n",
       "      <th>3.360101e+10</th>\n",
       "      <td>0.000000</td>\n",
       "      <td>0.002304</td>\n",
       "      <td>0.044148</td>\n",
       "      <td>0.007416</td>\n",
       "    </tr>\n",
       "    <tr>\n",
       "      <th>3.360101e+10</th>\n",
       "      <td>0.009288</td>\n",
       "      <td>0.001615</td>\n",
       "      <td>0.161598</td>\n",
       "      <td>0.064265</td>\n",
       "    </tr>\n",
       "    <tr>\n",
       "      <th>...</th>\n",
       "      <td>...</td>\n",
       "      <td>...</td>\n",
       "      <td>...</td>\n",
       "      <td>...</td>\n",
       "    </tr>\n",
       "    <tr>\n",
       "      <th>3.379000e+10</th>\n",
       "      <td>0.000000</td>\n",
       "      <td>0.000090</td>\n",
       "      <td>0.077317</td>\n",
       "      <td>0.012226</td>\n",
       "    </tr>\n",
       "    <tr>\n",
       "      <th>3.379000e+10</th>\n",
       "      <td>0.000000</td>\n",
       "      <td>0.007217</td>\n",
       "      <td>0.050727</td>\n",
       "      <td>0.003158</td>\n",
       "    </tr>\n",
       "    <tr>\n",
       "      <th>3.197020e+12</th>\n",
       "      <td>0.000000</td>\n",
       "      <td>0.046922</td>\n",
       "      <td>0.022566</td>\n",
       "      <td>0.032339</td>\n",
       "    </tr>\n",
       "    <tr>\n",
       "      <th>3.370000e+14</th>\n",
       "      <td>0.000000</td>\n",
       "      <td>0.013258</td>\n",
       "      <td>0.063887</td>\n",
       "      <td>0.005387</td>\n",
       "    </tr>\n",
       "    <tr>\n",
       "      <th>8.823970e+14</th>\n",
       "      <td>0.000000</td>\n",
       "      <td>0.046515</td>\n",
       "      <td>0.012017</td>\n",
       "      <td>0.036717</td>\n",
       "    </tr>\n",
       "  </tbody>\n",
       "</table>\n",
       "<p>106856 rows × 4 columns</p>\n",
       "</div>"
      ],
      "text/plain": [
       "               Session Frequency  Session Duration  Total Traffic  \\\n",
       "MSISDN/Number                                                       \n",
       "3.360100e+10            0.000000          0.005908       0.095931   \n",
       "3.360100e+10            0.000000          0.009387       0.014026   \n",
       "3.360100e+10            0.000000          0.006892       0.063851   \n",
       "3.360101e+10            0.000000          0.002304       0.044148   \n",
       "3.360101e+10            0.009288          0.001615       0.161598   \n",
       "...                          ...               ...            ...   \n",
       "3.379000e+10            0.000000          0.000090       0.077317   \n",
       "3.379000e+10            0.000000          0.007217       0.050727   \n",
       "3.197020e+12            0.000000          0.046922       0.022566   \n",
       "3.370000e+14            0.000000          0.013258       0.063887   \n",
       "8.823970e+14            0.000000          0.046515       0.012017   \n",
       "\n",
       "               Engagement Score  \n",
       "MSISDN/Number                    \n",
       "3.360100e+10           0.023263  \n",
       "3.360100e+10           0.025866  \n",
       "3.360100e+10           0.003463  \n",
       "3.360101e+10           0.007416  \n",
       "3.360101e+10           0.064265  \n",
       "...                         ...  \n",
       "3.379000e+10           0.012226  \n",
       "3.379000e+10           0.003158  \n",
       "3.197020e+12           0.032339  \n",
       "3.370000e+14           0.005387  \n",
       "8.823970e+14           0.036717  \n",
       "\n",
       "[106856 rows x 4 columns]"
      ]
     },
     "execution_count": 29,
     "metadata": {},
     "output_type": "execute_result"
    }
   ],
   "source": [
    "\n",
    "from sklearn.metrics.pairwise import euclidean_distances\n",
    "\n",
    "\n",
    "\n",
    "\n",
    "\n",
    "distances = euclidean_distances(user_data, centroids)\n",
    "\n",
    "less_engaged_cluster_index = 0\n",
    "\n",
    "engagement_scores = distances[:, less_engaged_cluster_index]\n",
    "\n",
    "mms = MinMaxScaler()\n",
    "engagement_scores = mms.fit_transform(engagement_scores.reshape(-1, 1))\n",
    "\n",
    "aggregated_data['Engagement Score'] = engagement_scores\n",
    "\n",
    "\n",
    "aggregated_data"
   ]
  },
  {
   "cell_type": "markdown",
   "id": "d5dcf202",
   "metadata": {},
   "source": [
    "#### Experience score for each user. Consider the experience score as the Euclidean distance between the user data point & the worst experience cluster. "
   ]
  },
  {
   "cell_type": "markdown",
   "id": "cf9a955a",
   "metadata": {},
   "source": [
    "#  Experience  analysis"
   ]
  },
  {
   "cell_type": "code",
   "execution_count": 31,
   "id": "77c1e49a",
   "metadata": {},
   "outputs": [],
   "source": [
    "# Calculate average TCP retransmission\n",
    "avg_tcp_retransmission = SB.groupby('MSISDN/Number')[['TCP DL Retrans. Vol (Bytes)', 'TCP UL Retrans. Vol (Bytes)']].mean().mean(axis=1)\n",
    "avg_tcp_retransmission.fillna(avg_tcp_retransmission.mean(), inplace=True)"
   ]
  },
  {
   "cell_type": "code",
   "execution_count": 33,
   "id": "f17a4109",
   "metadata": {},
   "outputs": [],
   "source": [
    "# Calculate average RTT\n",
    "avg_rtt = SB.groupby('MSISDN/Number')[['Avg RTT DL (ms)', 'Avg RTT UL (ms)']].mean().mean(axis=1)\n",
    "avg_rtt.fillna(avg_rtt.mean(), inplace=True)"
   ]
  },
  {
   "cell_type": "code",
   "execution_count": 34,
   "id": "fed6673c",
   "metadata": {},
   "outputs": [],
   "source": [
    "# Calculate average throughput\n",
    "avg_throughput = SB.groupby('MSISDN/Number')[['Avg Bearer TP DL (kbps)', 'Avg Bearer TP UL (kbps)']].mean().mean(axis=1)\n",
    "avg_throughput.fillna(avg_throughput.mean(), inplace=True)"
   ]
  },
  {
   "cell_type": "code",
   "execution_count": 35,
   "id": "4220c2d6",
   "metadata": {},
   "outputs": [],
   "source": [
    "handset_mode = SB.groupby('MSISDN/Number')['Handset Type'].agg(lambda x: x.mode().values[0] if len(x.mode()) > 0 else None)\n"
   ]
  },
  {
   "cell_type": "code",
   "execution_count": 36,
   "id": "0589c674",
   "metadata": {},
   "outputs": [
    {
     "data": {
      "text/html": [
       "<div>\n",
       "<style scoped>\n",
       "    .dataframe tbody tr th:only-of-type {\n",
       "        vertical-align: middle;\n",
       "    }\n",
       "\n",
       "    .dataframe tbody tr th {\n",
       "        vertical-align: top;\n",
       "    }\n",
       "\n",
       "    .dataframe thead th {\n",
       "        text-align: right;\n",
       "    }\n",
       "</style>\n",
       "<table border=\"1\" class=\"dataframe\">\n",
       "  <thead>\n",
       "    <tr style=\"text-align: right;\">\n",
       "      <th></th>\n",
       "      <th>MSISDN/Number</th>\n",
       "      <th>Avg_TCP_Retransmission</th>\n",
       "      <th>Avg_RTT</th>\n",
       "      <th>Handset_Type</th>\n",
       "      <th>Avg_Throughput</th>\n",
       "    </tr>\n",
       "  </thead>\n",
       "  <tbody>\n",
       "    <tr>\n",
       "      <th>0</th>\n",
       "      <td>3.360100e+10</td>\n",
       "      <td>8.463363e+06</td>\n",
       "      <td>23.000000</td>\n",
       "      <td>Huawei P20 Lite Huawei Nova 3E</td>\n",
       "      <td>38.0</td>\n",
       "    </tr>\n",
       "    <tr>\n",
       "      <th>1</th>\n",
       "      <td>3.360100e+10</td>\n",
       "      <td>8.463363e+06</td>\n",
       "      <td>15.500000</td>\n",
       "      <td>Apple iPhone 7 (A1778)</td>\n",
       "      <td>49.5</td>\n",
       "    </tr>\n",
       "    <tr>\n",
       "      <th>2</th>\n",
       "      <td>3.360100e+10</td>\n",
       "      <td>8.463363e+06</td>\n",
       "      <td>68.269961</td>\n",
       "      <td>undefined</td>\n",
       "      <td>48.5</td>\n",
       "    </tr>\n",
       "    <tr>\n",
       "      <th>3</th>\n",
       "      <td>3.360101e+10</td>\n",
       "      <td>1.066000e+03</td>\n",
       "      <td>42.000000</td>\n",
       "      <td>Apple iPhone 5S (A1457)</td>\n",
       "      <td>124.0</td>\n",
       "    </tr>\n",
       "    <tr>\n",
       "      <th>4</th>\n",
       "      <td>3.360101e+10</td>\n",
       "      <td>4.685416e+06</td>\n",
       "      <td>29.750000</td>\n",
       "      <td>Apple iPhone Se (A1723)</td>\n",
       "      <td>14211.0</td>\n",
       "    </tr>\n",
       "    <tr>\n",
       "      <th>...</th>\n",
       "      <td>...</td>\n",
       "      <td>...</td>\n",
       "      <td>...</td>\n",
       "      <td>...</td>\n",
       "      <td>...</td>\n",
       "    </tr>\n",
       "    <tr>\n",
       "      <th>106851</th>\n",
       "      <td>3.379000e+10</td>\n",
       "      <td>1.090225e+05</td>\n",
       "      <td>26.000000</td>\n",
       "      <td>Huawei Honor 9 Lite</td>\n",
       "      <td>5182.5</td>\n",
       "    </tr>\n",
       "    <tr>\n",
       "      <th>106852</th>\n",
       "      <td>3.379000e+10</td>\n",
       "      <td>8.463363e+06</td>\n",
       "      <td>20.000000</td>\n",
       "      <td>Apple iPhone 8 Plus (A1897)</td>\n",
       "      <td>58.0</td>\n",
       "    </tr>\n",
       "    <tr>\n",
       "      <th>106853</th>\n",
       "      <td>3.197020e+12</td>\n",
       "      <td>8.463363e+06</td>\n",
       "      <td>68.269961</td>\n",
       "      <td>Quectel Wireless. Quectel Ec25-E</td>\n",
       "      <td>0.5</td>\n",
       "    </tr>\n",
       "    <tr>\n",
       "      <th>106854</th>\n",
       "      <td>3.370000e+14</td>\n",
       "      <td>8.463363e+06</td>\n",
       "      <td>68.269961</td>\n",
       "      <td>Huawei B525S-23A</td>\n",
       "      <td>16.5</td>\n",
       "    </tr>\n",
       "    <tr>\n",
       "      <th>106855</th>\n",
       "      <td>8.823970e+14</td>\n",
       "      <td>8.463363e+06</td>\n",
       "      <td>68.269961</td>\n",
       "      <td>Quectel Wireless. Quectel Ec21-E</td>\n",
       "      <td>1.0</td>\n",
       "    </tr>\n",
       "  </tbody>\n",
       "</table>\n",
       "<p>106856 rows × 5 columns</p>\n",
       "</div>"
      ],
      "text/plain": [
       "        MSISDN/Number  Avg_TCP_Retransmission    Avg_RTT  \\\n",
       "0        3.360100e+10            8.463363e+06  23.000000   \n",
       "1        3.360100e+10            8.463363e+06  15.500000   \n",
       "2        3.360100e+10            8.463363e+06  68.269961   \n",
       "3        3.360101e+10            1.066000e+03  42.000000   \n",
       "4        3.360101e+10            4.685416e+06  29.750000   \n",
       "...               ...                     ...        ...   \n",
       "106851   3.379000e+10            1.090225e+05  26.000000   \n",
       "106852   3.379000e+10            8.463363e+06  20.000000   \n",
       "106853   3.197020e+12            8.463363e+06  68.269961   \n",
       "106854   3.370000e+14            8.463363e+06  68.269961   \n",
       "106855   8.823970e+14            8.463363e+06  68.269961   \n",
       "\n",
       "                            Handset_Type  Avg_Throughput  \n",
       "0         Huawei P20 Lite Huawei Nova 3E            38.0  \n",
       "1                 Apple iPhone 7 (A1778)            49.5  \n",
       "2                              undefined            48.5  \n",
       "3                Apple iPhone 5S (A1457)           124.0  \n",
       "4                Apple iPhone Se (A1723)         14211.0  \n",
       "...                                  ...             ...  \n",
       "106851               Huawei Honor 9 Lite          5182.5  \n",
       "106852       Apple iPhone 8 Plus (A1897)            58.0  \n",
       "106853  Quectel Wireless. Quectel Ec25-E             0.5  \n",
       "106854                  Huawei B525S-23A            16.5  \n",
       "106855  Quectel Wireless. Quectel Ec21-E             1.0  \n",
       "\n",
       "[106856 rows x 5 columns]"
      ]
     },
     "execution_count": 36,
     "metadata": {},
     "output_type": "execute_result"
    }
   ],
   "source": [
    "# Create a new DataFrame with aggregated information\n",
    "aggregated_data1 = pd.DataFrame({\n",
    "    'Avg_TCP_Retransmission': avg_tcp_retransmission,\n",
    "    'Avg_RTT': avg_rtt,\n",
    "    'Handset_Type': handset_mode,\n",
    "    'Avg_Throughput': avg_throughput\n",
    "})\n",
    "\n",
    "# Reset the index to make 'MSISDN/Number' a column instead of the index\n",
    "aggregated_data1.reset_index(inplace=True)\n",
    "\n",
    "# Display the aggregated data\n",
    "aggregated_data1"
   ]
  },
  {
   "cell_type": "markdown",
   "id": "3d1f2a83",
   "metadata": {},
   "source": [
    "#### Data Scaling"
   ]
  },
  {
   "cell_type": "code",
   "execution_count": 37,
   "id": "09187421",
   "metadata": {},
   "outputs": [],
   "source": [
    "aggregated_data1['Avg_TCP_Retransmission']=mms.fit_transform(aggregated_data1[['Avg_TCP_Retransmission']])\n",
    "aggregated_data1['Avg_RTT']=mms.fit_transform(aggregated_data1[['Avg_RTT']])\n",
    "aggregated_data1['Avg_Throughput']=mms.fit_transform(aggregated_data1[['Avg_Throughput']])\n"
   ]
  },
  {
   "cell_type": "code",
   "execution_count": 38,
   "id": "c2c82cca",
   "metadata": {},
   "outputs": [],
   "source": [
    "\n",
    "user_data = aggregated_data1[['Avg_TCP_Retransmission', 'Avg_RTT', 'Avg_Throughput']].values\n",
    "\n"
   ]
  },
  {
   "cell_type": "code",
   "execution_count": 39,
   "id": "ecfcd5cd",
   "metadata": {},
   "outputs": [
    {
     "data": {
      "image/png": "[encoded data removed]",
      "text/plain": [
       "<Figure size 2000x500 with 1 Axes>"
      ]
     },
     "metadata": {},
     "output_type": "display_data"
    }
   ],
   "source": [
    "sse = {};\n",
    "kmax = 10\n",
    "fig = plt.subplots(figsize = (20,5))\n",
    "\n",
    "# Elbow Method :\n",
    "for k in range(1, 10):\n",
    "    kmeans = KMeans(n_clusters=k, max_iter=1000).fit(user_data)\n",
    "    sse[k] = kmeans.inertia_ # Inertia: Sum of distances of samples to their closest cluster center\n",
    "sns.lineplot(x = list(sse.keys()), y = list(sse.values()));\n",
    "plt.title('Elbow Method')\n",
    "plt.xlabel(\"k : Number of cluster\")\n",
    "plt.ylabel(\"Sum of Squared Error\")\n",
    "plt.grid()"
   ]
  },
  {
   "cell_type": "code",
   "execution_count": 40,
   "id": "d793c95c",
   "metadata": {},
   "outputs": [],
   "source": [
    "from sklearn.cluster import KMeans\n"
   ]
  },
  {
   "cell_type": "code",
   "execution_count": 41,
   "id": "73232fc1",
   "metadata": {},
   "outputs": [],
   "source": [
    "model = KMeans(n_clusters = 2,\n",
    "               max_iter = 1000)"
   ]
  },
  {
   "cell_type": "code",
   "execution_count": 42,
   "id": "0ae5871e",
   "metadata": {},
   "outputs": [
    {
     "data": {
      "text/plain": [
       "KMeans(max_iter=1000, n_clusters=2)"
      ]
     },
     "execution_count": 42,
     "metadata": {},
     "output_type": "execute_result"
    }
   ],
   "source": [
    "model.fit(user_data)"
   ]
  },
  {
   "cell_type": "code",
   "execution_count": 43,
   "id": "3343ea98",
   "metadata": {},
   "outputs": [],
   "source": [
    "# Finding the cluster centroids\n",
    "cluster = model.cluster_centers_"
   ]
  },
  {
   "cell_type": "code",
   "execution_count": 44,
   "id": "491b6d73",
   "metadata": {},
   "outputs": [
    {
     "data": {
      "text/plain": [
       "array([[0.00619649, 0.00106115, 0.19468969],\n",
       "       [0.00199878, 0.00148151, 0.0152594 ]])"
      ]
     },
     "execution_count": 44,
     "metadata": {},
     "output_type": "execute_result"
    }
   ],
   "source": [
    "cluster"
   ]
  },
  {
   "cell_type": "code",
   "execution_count": 45,
   "id": "b1bbaeff",
   "metadata": {},
   "outputs": [
    {
     "data": {
      "text/plain": [
       "array([1, 1, 1, ..., 1, 1, 1])"
      ]
     },
     "execution_count": 45,
     "metadata": {},
     "output_type": "execute_result"
    }
   ],
   "source": [
    "labels = model.labels_\n",
    "labels"
   ]
  },
  {
   "cell_type": "code",
   "execution_count": 46,
   "id": "1d4b7f24",
   "metadata": {},
   "outputs": [],
   "source": [
    "centroids= np.array(cluster)"
   ]
  },
  {
   "cell_type": "code",
   "execution_count": 47,
   "id": "4fca0239",
   "metadata": {},
   "outputs": [
    {
     "data": {
      "text/plain": [
       "array([[0.00619649, 0.00106115, 0.19468969],\n",
       "       [0.00199878, 0.00148151, 0.0152594 ]])"
      ]
     },
     "execution_count": 47,
     "metadata": {},
     "output_type": "execute_result"
    }
   ],
   "source": [
    "centroids"
   ]
  },
  {
   "cell_type": "code",
   "execution_count": 48,
   "id": "958c698f",
   "metadata": {},
   "outputs": [
    {
     "data": {
      "text/html": [
       "<div>\n",
       "<style scoped>\n",
       "    .dataframe tbody tr th:only-of-type {\n",
       "        vertical-align: middle;\n",
       "    }\n",
       "\n",
       "    .dataframe tbody tr th {\n",
       "        vertical-align: top;\n",
       "    }\n",
       "\n",
       "    .dataframe thead th {\n",
       "        text-align: right;\n",
       "    }\n",
       "</style>\n",
       "<table border=\"1\" class=\"dataframe\">\n",
       "  <thead>\n",
       "    <tr style=\"text-align: right;\">\n",
       "      <th></th>\n",
       "      <th>MSISDN/Number</th>\n",
       "      <th>Avg_TCP_Retransmission</th>\n",
       "      <th>Avg_RTT</th>\n",
       "      <th>Handset_Type</th>\n",
       "      <th>Avg_Throughput</th>\n",
       "      <th>Experience Score</th>\n",
       "    </tr>\n",
       "  </thead>\n",
       "  <tbody>\n",
       "    <tr>\n",
       "      <th>0</th>\n",
       "      <td>3.360100e+10</td>\n",
       "      <td>2.725529e-03</td>\n",
       "      <td>0.000475</td>\n",
       "      <td>Huawei P20 Lite Huawei Nova 3E</td>\n",
       "      <td>0.000268</td>\n",
       "      <td>0.014054</td>\n",
       "    </tr>\n",
       "    <tr>\n",
       "      <th>1</th>\n",
       "      <td>3.360100e+10</td>\n",
       "      <td>2.725529e-03</td>\n",
       "      <td>0.000320</td>\n",
       "      <td>Apple iPhone 7 (A1778)</td>\n",
       "      <td>0.000349</td>\n",
       "      <td>0.013986</td>\n",
       "    </tr>\n",
       "    <tr>\n",
       "      <th>2</th>\n",
       "      <td>3.360100e+10</td>\n",
       "      <td>2.725529e-03</td>\n",
       "      <td>0.001409</td>\n",
       "      <td>undefined</td>\n",
       "      <td>0.000342</td>\n",
       "      <td>0.013948</td>\n",
       "    </tr>\n",
       "    <tr>\n",
       "      <th>3</th>\n",
       "      <td>3.360101e+10</td>\n",
       "      <td>3.426491e-07</td>\n",
       "      <td>0.000867</td>\n",
       "      <td>Apple iPhone 5S (A1457)</td>\n",
       "      <td>0.000873</td>\n",
       "      <td>0.013556</td>\n",
       "    </tr>\n",
       "    <tr>\n",
       "      <th>4</th>\n",
       "      <td>3.360101e+10</td>\n",
       "      <td>1.508884e-03</td>\n",
       "      <td>0.000614</td>\n",
       "      <td>Apple iPhone Se (A1723)</td>\n",
       "      <td>0.100102</td>\n",
       "      <td>0.082802</td>\n",
       "    </tr>\n",
       "    <tr>\n",
       "      <th>...</th>\n",
       "      <td>...</td>\n",
       "      <td>...</td>\n",
       "      <td>...</td>\n",
       "      <td>...</td>\n",
       "      <td>...</td>\n",
       "      <td>...</td>\n",
       "    </tr>\n",
       "    <tr>\n",
       "      <th>106851</th>\n",
       "      <td>3.379000e+10</td>\n",
       "      <td>3.510881e-05</td>\n",
       "      <td>0.000537</td>\n",
       "      <td>Huawei Honor 9 Lite</td>\n",
       "      <td>0.036505</td>\n",
       "      <td>0.020273</td>\n",
       "    </tr>\n",
       "    <tr>\n",
       "      <th>106852</th>\n",
       "      <td>3.379000e+10</td>\n",
       "      <td>2.725529e-03</td>\n",
       "      <td>0.000413</td>\n",
       "      <td>Apple iPhone 8 Plus (A1897)</td>\n",
       "      <td>0.000409</td>\n",
       "      <td>0.013920</td>\n",
       "    </tr>\n",
       "    <tr>\n",
       "      <th>106853</th>\n",
       "      <td>3.197020e+12</td>\n",
       "      <td>2.725529e-03</td>\n",
       "      <td>0.001409</td>\n",
       "      <td>Quectel Wireless. Quectel Ec25-E</td>\n",
       "      <td>0.000004</td>\n",
       "      <td>0.014281</td>\n",
       "    </tr>\n",
       "    <tr>\n",
       "      <th>106854</th>\n",
       "      <td>3.370000e+14</td>\n",
       "      <td>2.725529e-03</td>\n",
       "      <td>0.001409</td>\n",
       "      <td>Huawei B525S-23A</td>\n",
       "      <td>0.000116</td>\n",
       "      <td>0.014170</td>\n",
       "    </tr>\n",
       "    <tr>\n",
       "      <th>106855</th>\n",
       "      <td>8.823970e+14</td>\n",
       "      <td>2.725529e-03</td>\n",
       "      <td>0.001409</td>\n",
       "      <td>Quectel Wireless. Quectel Ec21-E</td>\n",
       "      <td>0.000007</td>\n",
       "      <td>0.014277</td>\n",
       "    </tr>\n",
       "  </tbody>\n",
       "</table>\n",
       "<p>106856 rows × 6 columns</p>\n",
       "</div>"
      ],
      "text/plain": [
       "        MSISDN/Number  Avg_TCP_Retransmission   Avg_RTT  \\\n",
       "0        3.360100e+10            2.725529e-03  0.000475   \n",
       "1        3.360100e+10            2.725529e-03  0.000320   \n",
       "2        3.360100e+10            2.725529e-03  0.001409   \n",
       "3        3.360101e+10            3.426491e-07  0.000867   \n",
       "4        3.360101e+10            1.508884e-03  0.000614   \n",
       "...               ...                     ...       ...   \n",
       "106851   3.379000e+10            3.510881e-05  0.000537   \n",
       "106852   3.379000e+10            2.725529e-03  0.000413   \n",
       "106853   3.197020e+12            2.725529e-03  0.001409   \n",
       "106854   3.370000e+14            2.725529e-03  0.001409   \n",
       "106855   8.823970e+14            2.725529e-03  0.001409   \n",
       "\n",
       "                            Handset_Type  Avg_Throughput  Experience Score  \n",
       "0         Huawei P20 Lite Huawei Nova 3E        0.000268          0.014054  \n",
       "1                 Apple iPhone 7 (A1778)        0.000349          0.013986  \n",
       "2                              undefined        0.000342          0.013948  \n",
       "3                Apple iPhone 5S (A1457)        0.000873          0.013556  \n",
       "4                Apple iPhone Se (A1723)        0.100102          0.082802  \n",
       "...                                  ...             ...               ...  \n",
       "106851               Huawei Honor 9 Lite        0.036505          0.020273  \n",
       "106852       Apple iPhone 8 Plus (A1897)        0.000409          0.013920  \n",
       "106853  Quectel Wireless. Quectel Ec25-E        0.000004          0.014281  \n",
       "106854                  Huawei B525S-23A        0.000116          0.014170  \n",
       "106855  Quectel Wireless. Quectel Ec21-E        0.000007          0.014277  \n",
       "\n",
       "[106856 rows x 6 columns]"
      ]
     },
     "execution_count": 48,
     "metadata": {},
     "output_type": "execute_result"
    }
   ],
   "source": [
    "cluster_centroids = centroids\n",
    "\n",
    "distances = euclidean_distances(user_data, cluster_centroids)\n",
    "\n",
    "worst_experience_cluster_index = cluster_centroids.shape[0] - 1\n",
    "\n",
    "experience_scores = distances[:, worst_experience_cluster_index]\n",
    "\n",
    "mms = MinMaxScaler()\n",
    "experience_scores = mms.fit_transform(experience_scores.reshape(-1, 1))\n",
    "\n",
    "aggregated_data1['Experience Score'] = experience_scores\n",
    "\n",
    "aggregated_data1"
   ]
  },
  {
   "cell_type": "code",
   "execution_count": 49,
   "id": "95874e32",
   "metadata": {},
   "outputs": [
    {
     "data": {
      "text/html": [
       "<div>\n",
       "<style scoped>\n",
       "    .dataframe tbody tr th:only-of-type {\n",
       "        vertical-align: middle;\n",
       "    }\n",
       "\n",
       "    .dataframe tbody tr th {\n",
       "        vertical-align: top;\n",
       "    }\n",
       "\n",
       "    .dataframe thead th {\n",
       "        text-align: right;\n",
       "    }\n",
       "</style>\n",
       "<table border=\"1\" class=\"dataframe\">\n",
       "  <thead>\n",
       "    <tr style=\"text-align: right;\">\n",
       "      <th></th>\n",
       "      <th>Session Frequency</th>\n",
       "      <th>Session Duration</th>\n",
       "      <th>Total Traffic</th>\n",
       "      <th>Engagement Score</th>\n",
       "    </tr>\n",
       "    <tr>\n",
       "      <th>MSISDN/Number</th>\n",
       "      <th></th>\n",
       "      <th></th>\n",
       "      <th></th>\n",
       "      <th></th>\n",
       "    </tr>\n",
       "  </thead>\n",
       "  <tbody>\n",
       "    <tr>\n",
       "      <th>3.360100e+10</th>\n",
       "      <td>0.000000</td>\n",
       "      <td>0.005908</td>\n",
       "      <td>0.095931</td>\n",
       "      <td>0.023263</td>\n",
       "    </tr>\n",
       "    <tr>\n",
       "      <th>3.360100e+10</th>\n",
       "      <td>0.000000</td>\n",
       "      <td>0.009387</td>\n",
       "      <td>0.014026</td>\n",
       "      <td>0.025866</td>\n",
       "    </tr>\n",
       "    <tr>\n",
       "      <th>3.360100e+10</th>\n",
       "      <td>0.000000</td>\n",
       "      <td>0.006892</td>\n",
       "      <td>0.063851</td>\n",
       "      <td>0.003463</td>\n",
       "    </tr>\n",
       "    <tr>\n",
       "      <th>3.360101e+10</th>\n",
       "      <td>0.000000</td>\n",
       "      <td>0.002304</td>\n",
       "      <td>0.044148</td>\n",
       "      <td>0.007416</td>\n",
       "    </tr>\n",
       "    <tr>\n",
       "      <th>3.360101e+10</th>\n",
       "      <td>0.009288</td>\n",
       "      <td>0.001615</td>\n",
       "      <td>0.161598</td>\n",
       "      <td>0.064265</td>\n",
       "    </tr>\n",
       "    <tr>\n",
       "      <th>...</th>\n",
       "      <td>...</td>\n",
       "      <td>...</td>\n",
       "      <td>...</td>\n",
       "      <td>...</td>\n",
       "    </tr>\n",
       "    <tr>\n",
       "      <th>3.379000e+10</th>\n",
       "      <td>0.000000</td>\n",
       "      <td>0.000090</td>\n",
       "      <td>0.077317</td>\n",
       "      <td>0.012226</td>\n",
       "    </tr>\n",
       "    <tr>\n",
       "      <th>3.379000e+10</th>\n",
       "      <td>0.000000</td>\n",
       "      <td>0.007217</td>\n",
       "      <td>0.050727</td>\n",
       "      <td>0.003158</td>\n",
       "    </tr>\n",
       "    <tr>\n",
       "      <th>3.197020e+12</th>\n",
       "      <td>0.000000</td>\n",
       "      <td>0.046922</td>\n",
       "      <td>0.022566</td>\n",
       "      <td>0.032339</td>\n",
       "    </tr>\n",
       "    <tr>\n",
       "      <th>3.370000e+14</th>\n",
       "      <td>0.000000</td>\n",
       "      <td>0.013258</td>\n",
       "      <td>0.063887</td>\n",
       "      <td>0.005387</td>\n",
       "    </tr>\n",
       "    <tr>\n",
       "      <th>8.823970e+14</th>\n",
       "      <td>0.000000</td>\n",
       "      <td>0.046515</td>\n",
       "      <td>0.012017</td>\n",
       "      <td>0.036717</td>\n",
       "    </tr>\n",
       "  </tbody>\n",
       "</table>\n",
       "<p>106856 rows × 4 columns</p>\n",
       "</div>"
      ],
      "text/plain": [
       "               Session Frequency  Session Duration  Total Traffic  \\\n",
       "MSISDN/Number                                                       \n",
       "3.360100e+10            0.000000          0.005908       0.095931   \n",
       "3.360100e+10            0.000000          0.009387       0.014026   \n",
       "3.360100e+10            0.000000          0.006892       0.063851   \n",
       "3.360101e+10            0.000000          0.002304       0.044148   \n",
       "3.360101e+10            0.009288          0.001615       0.161598   \n",
       "...                          ...               ...            ...   \n",
       "3.379000e+10            0.000000          0.000090       0.077317   \n",
       "3.379000e+10            0.000000          0.007217       0.050727   \n",
       "3.197020e+12            0.000000          0.046922       0.022566   \n",
       "3.370000e+14            0.000000          0.013258       0.063887   \n",
       "8.823970e+14            0.000000          0.046515       0.012017   \n",
       "\n",
       "               Engagement Score  \n",
       "MSISDN/Number                    \n",
       "3.360100e+10           0.023263  \n",
       "3.360100e+10           0.025866  \n",
       "3.360100e+10           0.003463  \n",
       "3.360101e+10           0.007416  \n",
       "3.360101e+10           0.064265  \n",
       "...                         ...  \n",
       "3.379000e+10           0.012226  \n",
       "3.379000e+10           0.003158  \n",
       "3.197020e+12           0.032339  \n",
       "3.370000e+14           0.005387  \n",
       "8.823970e+14           0.036717  \n",
       "\n",
       "[106856 rows x 4 columns]"
      ]
     },
     "execution_count": 49,
     "metadata": {},
     "output_type": "execute_result"
    }
   ],
   "source": [
    "aggregated_data"
   ]
  },
  {
   "cell_type": "code",
   "execution_count": 50,
   "id": "88e2bdde",
   "metadata": {
    "scrolled": true
   },
   "outputs": [
    {
     "data": {
      "text/html": [
       "<div>\n",
       "<style scoped>\n",
       "    .dataframe tbody tr th:only-of-type {\n",
       "        vertical-align: middle;\n",
       "    }\n",
       "\n",
       "    .dataframe tbody tr th {\n",
       "        vertical-align: top;\n",
       "    }\n",
       "\n",
       "    .dataframe thead th {\n",
       "        text-align: right;\n",
       "    }\n",
       "</style>\n",
       "<table border=\"1\" class=\"dataframe\">\n",
       "  <thead>\n",
       "    <tr style=\"text-align: right;\">\n",
       "      <th></th>\n",
       "      <th>MSISDN/Number</th>\n",
       "      <th>Avg_TCP_Retransmission</th>\n",
       "      <th>Avg_RTT</th>\n",
       "      <th>Handset_Type</th>\n",
       "      <th>Avg_Throughput</th>\n",
       "      <th>Experience Score</th>\n",
       "    </tr>\n",
       "  </thead>\n",
       "  <tbody>\n",
       "    <tr>\n",
       "      <th>0</th>\n",
       "      <td>3.360100e+10</td>\n",
       "      <td>2.725529e-03</td>\n",
       "      <td>0.000475</td>\n",
       "      <td>Huawei P20 Lite Huawei Nova 3E</td>\n",
       "      <td>0.000268</td>\n",
       "      <td>0.014054</td>\n",
       "    </tr>\n",
       "    <tr>\n",
       "      <th>1</th>\n",
       "      <td>3.360100e+10</td>\n",
       "      <td>2.725529e-03</td>\n",
       "      <td>0.000320</td>\n",
       "      <td>Apple iPhone 7 (A1778)</td>\n",
       "      <td>0.000349</td>\n",
       "      <td>0.013986</td>\n",
       "    </tr>\n",
       "    <tr>\n",
       "      <th>2</th>\n",
       "      <td>3.360100e+10</td>\n",
       "      <td>2.725529e-03</td>\n",
       "      <td>0.001409</td>\n",
       "      <td>undefined</td>\n",
       "      <td>0.000342</td>\n",
       "      <td>0.013948</td>\n",
       "    </tr>\n",
       "    <tr>\n",
       "      <th>3</th>\n",
       "      <td>3.360101e+10</td>\n",
       "      <td>3.426491e-07</td>\n",
       "      <td>0.000867</td>\n",
       "      <td>Apple iPhone 5S (A1457)</td>\n",
       "      <td>0.000873</td>\n",
       "      <td>0.013556</td>\n",
       "    </tr>\n",
       "    <tr>\n",
       "      <th>4</th>\n",
       "      <td>3.360101e+10</td>\n",
       "      <td>1.508884e-03</td>\n",
       "      <td>0.000614</td>\n",
       "      <td>Apple iPhone Se (A1723)</td>\n",
       "      <td>0.100102</td>\n",
       "      <td>0.082802</td>\n",
       "    </tr>\n",
       "    <tr>\n",
       "      <th>...</th>\n",
       "      <td>...</td>\n",
       "      <td>...</td>\n",
       "      <td>...</td>\n",
       "      <td>...</td>\n",
       "      <td>...</td>\n",
       "      <td>...</td>\n",
       "    </tr>\n",
       "    <tr>\n",
       "      <th>106851</th>\n",
       "      <td>3.379000e+10</td>\n",
       "      <td>3.510881e-05</td>\n",
       "      <td>0.000537</td>\n",
       "      <td>Huawei Honor 9 Lite</td>\n",
       "      <td>0.036505</td>\n",
       "      <td>0.020273</td>\n",
       "    </tr>\n",
       "    <tr>\n",
       "      <th>106852</th>\n",
       "      <td>3.379000e+10</td>\n",
       "      <td>2.725529e-03</td>\n",
       "      <td>0.000413</td>\n",
       "      <td>Apple iPhone 8 Plus (A1897)</td>\n",
       "      <td>0.000409</td>\n",
       "      <td>0.013920</td>\n",
       "    </tr>\n",
       "    <tr>\n",
       "      <th>106853</th>\n",
       "      <td>3.197020e+12</td>\n",
       "      <td>2.725529e-03</td>\n",
       "      <td>0.001409</td>\n",
       "      <td>Quectel Wireless. Quectel Ec25-E</td>\n",
       "      <td>0.000004</td>\n",
       "      <td>0.014281</td>\n",
       "    </tr>\n",
       "    <tr>\n",
       "      <th>106854</th>\n",
       "      <td>3.370000e+14</td>\n",
       "      <td>2.725529e-03</td>\n",
       "      <td>0.001409</td>\n",
       "      <td>Huawei B525S-23A</td>\n",
       "      <td>0.000116</td>\n",
       "      <td>0.014170</td>\n",
       "    </tr>\n",
       "    <tr>\n",
       "      <th>106855</th>\n",
       "      <td>8.823970e+14</td>\n",
       "      <td>2.725529e-03</td>\n",
       "      <td>0.001409</td>\n",
       "      <td>Quectel Wireless. Quectel Ec21-E</td>\n",
       "      <td>0.000007</td>\n",
       "      <td>0.014277</td>\n",
       "    </tr>\n",
       "  </tbody>\n",
       "</table>\n",
       "<p>106856 rows × 6 columns</p>\n",
       "</div>"
      ],
      "text/plain": [
       "        MSISDN/Number  Avg_TCP_Retransmission   Avg_RTT  \\\n",
       "0        3.360100e+10            2.725529e-03  0.000475   \n",
       "1        3.360100e+10            2.725529e-03  0.000320   \n",
       "2        3.360100e+10            2.725529e-03  0.001409   \n",
       "3        3.360101e+10            3.426491e-07  0.000867   \n",
       "4        3.360101e+10            1.508884e-03  0.000614   \n",
       "...               ...                     ...       ...   \n",
       "106851   3.379000e+10            3.510881e-05  0.000537   \n",
       "106852   3.379000e+10            2.725529e-03  0.000413   \n",
       "106853   3.197020e+12            2.725529e-03  0.001409   \n",
       "106854   3.370000e+14            2.725529e-03  0.001409   \n",
       "106855   8.823970e+14            2.725529e-03  0.001409   \n",
       "\n",
       "                            Handset_Type  Avg_Throughput  Experience Score  \n",
       "0         Huawei P20 Lite Huawei Nova 3E        0.000268          0.014054  \n",
       "1                 Apple iPhone 7 (A1778)        0.000349          0.013986  \n",
       "2                              undefined        0.000342          0.013948  \n",
       "3                Apple iPhone 5S (A1457)        0.000873          0.013556  \n",
       "4                Apple iPhone Se (A1723)        0.100102          0.082802  \n",
       "...                                  ...             ...               ...  \n",
       "106851               Huawei Honor 9 Lite        0.036505          0.020273  \n",
       "106852       Apple iPhone 8 Plus (A1897)        0.000409          0.013920  \n",
       "106853  Quectel Wireless. Quectel Ec25-E        0.000004          0.014281  \n",
       "106854                  Huawei B525S-23A        0.000116          0.014170  \n",
       "106855  Quectel Wireless. Quectel Ec21-E        0.000007          0.014277  \n",
       "\n",
       "[106856 rows x 6 columns]"
      ]
     },
     "execution_count": 50,
     "metadata": {},
     "output_type": "execute_result"
    }
   ],
   "source": [
    "aggregated_data1"
   ]
  },
  {
   "cell_type": "code",
   "execution_count": null,
   "id": "607751cc",
   "metadata": {},
   "outputs": [],
   "source": []
  },
  {
   "cell_type": "code",
   "execution_count": null,
   "id": "8598d201",
   "metadata": {},
   "outputs": [],
   "source": []
  },
  {
   "cell_type": "markdown",
   "id": "c6e72cee",
   "metadata": {},
   "source": [
    "## Task 4.2\n",
    "\n",
    "### Consider the average of both engagement & experience scores as the satisfaction  score & report the top 10 satisfied customer"
   ]
  },
  {
   "cell_type": "code",
   "execution_count": null,
   "id": "3fd8d471",
   "metadata": {},
   "outputs": [],
   "source": []
  },
  {
   "cell_type": "code",
   "execution_count": 52,
   "id": "cd65d3b5",
   "metadata": {},
   "outputs": [
    {
     "data": {
      "text/html": [
       "<div>\n",
       "<style scoped>\n",
       "    .dataframe tbody tr th:only-of-type {\n",
       "        vertical-align: middle;\n",
       "    }\n",
       "\n",
       "    .dataframe tbody tr th {\n",
       "        vertical-align: top;\n",
       "    }\n",
       "\n",
       "    .dataframe thead th {\n",
       "        text-align: right;\n",
       "    }\n",
       "</style>\n",
       "<table border=\"1\" class=\"dataframe\">\n",
       "  <thead>\n",
       "    <tr style=\"text-align: right;\">\n",
       "      <th></th>\n",
       "      <th>MSISDN/Number</th>\n",
       "      <th>Engagement Score</th>\n",
       "      <th>Experience Score</th>\n",
       "    </tr>\n",
       "  </thead>\n",
       "  <tbody>\n",
       "    <tr>\n",
       "      <th>0</th>\n",
       "      <td>3.360100e+10</td>\n",
       "      <td>0.023263</td>\n",
       "      <td>0.014054</td>\n",
       "    </tr>\n",
       "    <tr>\n",
       "      <th>1</th>\n",
       "      <td>3.360100e+10</td>\n",
       "      <td>0.025866</td>\n",
       "      <td>0.013986</td>\n",
       "    </tr>\n",
       "    <tr>\n",
       "      <th>2</th>\n",
       "      <td>3.360100e+10</td>\n",
       "      <td>0.003463</td>\n",
       "      <td>0.013948</td>\n",
       "    </tr>\n",
       "    <tr>\n",
       "      <th>3</th>\n",
       "      <td>3.360101e+10</td>\n",
       "      <td>0.007416</td>\n",
       "      <td>0.013556</td>\n",
       "    </tr>\n",
       "    <tr>\n",
       "      <th>4</th>\n",
       "      <td>3.360101e+10</td>\n",
       "      <td>0.064265</td>\n",
       "      <td>0.082802</td>\n",
       "    </tr>\n",
       "    <tr>\n",
       "      <th>...</th>\n",
       "      <td>...</td>\n",
       "      <td>...</td>\n",
       "      <td>...</td>\n",
       "    </tr>\n",
       "    <tr>\n",
       "      <th>106851</th>\n",
       "      <td>3.379000e+10</td>\n",
       "      <td>0.012226</td>\n",
       "      <td>0.020273</td>\n",
       "    </tr>\n",
       "    <tr>\n",
       "      <th>106852</th>\n",
       "      <td>3.379000e+10</td>\n",
       "      <td>0.003158</td>\n",
       "      <td>0.013920</td>\n",
       "    </tr>\n",
       "    <tr>\n",
       "      <th>106853</th>\n",
       "      <td>3.197020e+12</td>\n",
       "      <td>0.032339</td>\n",
       "      <td>0.014281</td>\n",
       "    </tr>\n",
       "    <tr>\n",
       "      <th>106854</th>\n",
       "      <td>3.370000e+14</td>\n",
       "      <td>0.005387</td>\n",
       "      <td>0.014170</td>\n",
       "    </tr>\n",
       "    <tr>\n",
       "      <th>106855</th>\n",
       "      <td>8.823970e+14</td>\n",
       "      <td>0.036717</td>\n",
       "      <td>0.014277</td>\n",
       "    </tr>\n",
       "  </tbody>\n",
       "</table>\n",
       "<p>106856 rows × 3 columns</p>\n",
       "</div>"
      ],
      "text/plain": [
       "        MSISDN/Number  Engagement Score  Experience Score\n",
       "0        3.360100e+10          0.023263          0.014054\n",
       "1        3.360100e+10          0.025866          0.013986\n",
       "2        3.360100e+10          0.003463          0.013948\n",
       "3        3.360101e+10          0.007416          0.013556\n",
       "4        3.360101e+10          0.064265          0.082802\n",
       "...               ...               ...               ...\n",
       "106851   3.379000e+10          0.012226          0.020273\n",
       "106852   3.379000e+10          0.003158          0.013920\n",
       "106853   3.197020e+12          0.032339          0.014281\n",
       "106854   3.370000e+14          0.005387          0.014170\n",
       "106855   8.823970e+14          0.036717          0.014277\n",
       "\n",
       "[106856 rows x 3 columns]"
      ]
     },
     "execution_count": 52,
     "metadata": {},
     "output_type": "execute_result"
    }
   ],
   "source": [
    "BB = pd.DataFrame({\n",
    "    'MSISDN/Number': aggregated_data.index,\n",
    "    'Engagement Score': aggregated_data['Engagement Score']\n",
    "})\n",
    "\n",
    "BB = BB.reset_index(drop=True)\n",
    "\n",
    "BB['Experience Score'] = experience_scores\n",
    "BB\n",
    "\n",
    "\n",
    "\n",
    "\n"
   ]
  },
  {
   "cell_type": "code",
   "execution_count": 55,
   "id": "dc4a087a",
   "metadata": {
    "scrolled": true
   },
   "outputs": [],
   "source": [
    "BB['Satisfaction Score'] = (BB['Engagement Score'] + BB['Experience Score']) / 2\n"
   ]
  },
  {
   "cell_type": "code",
   "execution_count": 56,
   "id": "25c2927c",
   "metadata": {},
   "outputs": [
    {
     "data": {
      "text/plain": [
       "0         0.018659\n",
       "1         0.019926\n",
       "2         0.008706\n",
       "3         0.010486\n",
       "4         0.073534\n",
       "            ...   \n",
       "106851    0.016250\n",
       "106852    0.008539\n",
       "106853    0.023310\n",
       "106854    0.009778\n",
       "106855    0.025497\n",
       "Name: Satisfaction Score, Length: 106856, dtype: float64"
      ]
     },
     "execution_count": 56,
     "metadata": {},
     "output_type": "execute_result"
    }
   ],
   "source": [
    "BB['Satisfaction Score']"
   ]
  },
  {
   "cell_type": "code",
   "execution_count": 57,
   "id": "e214ec18",
   "metadata": {},
   "outputs": [
    {
     "data": {
      "text/html": [
       "<div>\n",
       "<style scoped>\n",
       "    .dataframe tbody tr th:only-of-type {\n",
       "        vertical-align: middle;\n",
       "    }\n",
       "\n",
       "    .dataframe tbody tr th {\n",
       "        vertical-align: top;\n",
       "    }\n",
       "\n",
       "    .dataframe thead th {\n",
       "        text-align: right;\n",
       "    }\n",
       "</style>\n",
       "<table border=\"1\" class=\"dataframe\">\n",
       "  <thead>\n",
       "    <tr style=\"text-align: right;\">\n",
       "      <th></th>\n",
       "      <th>MSISDN/Number</th>\n",
       "      <th>Engagement Score</th>\n",
       "      <th>Experience Score</th>\n",
       "      <th>Satisfaction Score</th>\n",
       "    </tr>\n",
       "  </thead>\n",
       "  <tbody>\n",
       "    <tr>\n",
       "      <th>0</th>\n",
       "      <td>3.360100e+10</td>\n",
       "      <td>0.023263</td>\n",
       "      <td>0.014054</td>\n",
       "      <td>0.018659</td>\n",
       "    </tr>\n",
       "    <tr>\n",
       "      <th>1</th>\n",
       "      <td>3.360100e+10</td>\n",
       "      <td>0.025866</td>\n",
       "      <td>0.013986</td>\n",
       "      <td>0.019926</td>\n",
       "    </tr>\n",
       "    <tr>\n",
       "      <th>2</th>\n",
       "      <td>3.360100e+10</td>\n",
       "      <td>0.003463</td>\n",
       "      <td>0.013948</td>\n",
       "      <td>0.008706</td>\n",
       "    </tr>\n",
       "    <tr>\n",
       "      <th>3</th>\n",
       "      <td>3.360101e+10</td>\n",
       "      <td>0.007416</td>\n",
       "      <td>0.013556</td>\n",
       "      <td>0.010486</td>\n",
       "    </tr>\n",
       "    <tr>\n",
       "      <th>4</th>\n",
       "      <td>3.360101e+10</td>\n",
       "      <td>0.064265</td>\n",
       "      <td>0.082802</td>\n",
       "      <td>0.073534</td>\n",
       "    </tr>\n",
       "    <tr>\n",
       "      <th>...</th>\n",
       "      <td>...</td>\n",
       "      <td>...</td>\n",
       "      <td>...</td>\n",
       "      <td>...</td>\n",
       "    </tr>\n",
       "    <tr>\n",
       "      <th>106851</th>\n",
       "      <td>3.379000e+10</td>\n",
       "      <td>0.012226</td>\n",
       "      <td>0.020273</td>\n",
       "      <td>0.016250</td>\n",
       "    </tr>\n",
       "    <tr>\n",
       "      <th>106852</th>\n",
       "      <td>3.379000e+10</td>\n",
       "      <td>0.003158</td>\n",
       "      <td>0.013920</td>\n",
       "      <td>0.008539</td>\n",
       "    </tr>\n",
       "    <tr>\n",
       "      <th>106853</th>\n",
       "      <td>3.197020e+12</td>\n",
       "      <td>0.032339</td>\n",
       "      <td>0.014281</td>\n",
       "      <td>0.023310</td>\n",
       "    </tr>\n",
       "    <tr>\n",
       "      <th>106854</th>\n",
       "      <td>3.370000e+14</td>\n",
       "      <td>0.005387</td>\n",
       "      <td>0.014170</td>\n",
       "      <td>0.009778</td>\n",
       "    </tr>\n",
       "    <tr>\n",
       "      <th>106855</th>\n",
       "      <td>8.823970e+14</td>\n",
       "      <td>0.036717</td>\n",
       "      <td>0.014277</td>\n",
       "      <td>0.025497</td>\n",
       "    </tr>\n",
       "  </tbody>\n",
       "</table>\n",
       "<p>106856 rows × 4 columns</p>\n",
       "</div>"
      ],
      "text/plain": [
       "        MSISDN/Number  Engagement Score  Experience Score  Satisfaction Score\n",
       "0        3.360100e+10          0.023263          0.014054            0.018659\n",
       "1        3.360100e+10          0.025866          0.013986            0.019926\n",
       "2        3.360100e+10          0.003463          0.013948            0.008706\n",
       "3        3.360101e+10          0.007416          0.013556            0.010486\n",
       "4        3.360101e+10          0.064265          0.082802            0.073534\n",
       "...               ...               ...               ...                 ...\n",
       "106851   3.379000e+10          0.012226          0.020273            0.016250\n",
       "106852   3.379000e+10          0.003158          0.013920            0.008539\n",
       "106853   3.197020e+12          0.032339          0.014281            0.023310\n",
       "106854   3.370000e+14          0.005387          0.014170            0.009778\n",
       "106855   8.823970e+14          0.036717          0.014277            0.025497\n",
       "\n",
       "[106856 rows x 4 columns]"
      ]
     },
     "execution_count": 57,
     "metadata": {},
     "output_type": "execute_result"
    }
   ],
   "source": [
    "BB"
   ]
  },
  {
   "cell_type": "code",
   "execution_count": 58,
   "id": "637e3314",
   "metadata": {},
   "outputs": [
    {
     "name": "stdout",
     "output_type": "stream",
     "text": [
      "       MSISDN/Number  Engagement Score  Experience Score  Satisfaction Score\n",
      "13180   3.362578e+10          1.000000          0.026851            0.513425\n",
      "47983   3.366232e+10          0.019784          0.982751            0.501267\n",
      "33226   3.365889e+10          0.001553          1.000000            0.500777\n",
      "37838   3.365991e+10          0.007510          0.969067            0.488289\n",
      "60763   3.366566e+10          0.064393          0.904015            0.484204\n",
      "6437    3.361489e+10          0.869405          0.071233            0.470319\n",
      "49595   3.366268e+10          0.010615          0.905916            0.458265\n",
      "52830   3.366349e+10          0.010578          0.868570            0.439574\n",
      "13526   3.362632e+10          0.861383          0.007899            0.434641\n",
      "61964   3.366610e+10          0.001549          0.858860            0.430205\n"
     ]
    }
   ],
   "source": [
    "top_10_satisfied_customers = BB.sort_values(by='Satisfaction Score', ascending=False).head(10)\n",
    "print(top_10_satisfied_customers)"
   ]
  },
  {
   "cell_type": "code",
   "execution_count": null,
   "id": "d5272e64",
   "metadata": {},
   "outputs": [],
   "source": []
  },
  {
   "cell_type": "markdown",
   "id": "221ca65a",
   "metadata": {},
   "source": [
    "# Tele Task 4.3 \n",
    "\n",
    "## Build a regression model of your choice to predict the satisfaction score of a customer"
   ]
  },
  {
   "cell_type": "code",
   "execution_count": 59,
   "id": "617d06df",
   "metadata": {},
   "outputs": [],
   "source": [
    "from sklearn.model_selection import train_test_split\n",
    "from sklearn.linear_model import LinearRegression\n",
    "from sklearn.metrics import mean_squared_error"
   ]
  },
  {
   "cell_type": "code",
   "execution_count": 60,
   "id": "bf8b83a0",
   "metadata": {},
   "outputs": [],
   "source": [
    "X = BB[['Engagement Score', 'Experience Score']]\n",
    "y = BB['Satisfaction Score']\n"
   ]
  },
  {
   "cell_type": "code",
   "execution_count": 61,
   "id": "c6914b41",
   "metadata": {},
   "outputs": [],
   "source": [
    "# Split the data into training and testing sets\n",
    "X_train, X_test, y_train, y_test = train_test_split(X, y, test_size=0.2, random_state=42)"
   ]
  },
  {
   "cell_type": "code",
   "execution_count": 62,
   "id": "1fa4c7a1",
   "metadata": {},
   "outputs": [],
   "source": [
    "# Create a linear regression model\n",
    "model = LinearRegression()"
   ]
  },
  {
   "cell_type": "code",
   "execution_count": 63,
   "id": "98da41a0",
   "metadata": {},
   "outputs": [
    {
     "data": {
      "text/plain": [
       "LinearRegression()"
      ]
     },
     "execution_count": 63,
     "metadata": {},
     "output_type": "execute_result"
    }
   ],
   "source": [
    "# Train the model\n",
    "model.fit(X_train, y_train)"
   ]
  },
  {
   "cell_type": "code",
   "execution_count": 64,
   "id": "29965bad",
   "metadata": {},
   "outputs": [],
   "source": [
    "# Make predictions on the testing set\n",
    "y_pred = model.predict(X_test)"
   ]
  },
  {
   "cell_type": "code",
   "execution_count": 65,
   "id": "db8c0a3e",
   "metadata": {},
   "outputs": [
    {
     "data": {
      "text/plain": [
       "array([0.00974484, 0.00942883, 0.01616057, ..., 0.05617489, 0.06721142,\n",
       "       0.14913265])"
      ]
     },
     "execution_count": 65,
     "metadata": {},
     "output_type": "execute_result"
    }
   ],
   "source": [
    "y_pred"
   ]
  },
  {
   "cell_type": "code",
   "execution_count": 66,
   "id": "b464d63b",
   "metadata": {},
   "outputs": [
    {
     "data": {
      "text/plain": [
       "64473    0.009745\n",
       "83243    0.009429\n",
       "39296    0.016161\n",
       "44869    0.160345\n",
       "99282    0.009503\n",
       "           ...   \n",
       "67669    0.058094\n",
       "63720    0.007712\n",
       "16701    0.056175\n",
       "44897    0.067211\n",
       "97963    0.149133\n",
       "Name: Satisfaction Score, Length: 21372, dtype: float64"
      ]
     },
     "execution_count": 66,
     "metadata": {},
     "output_type": "execute_result"
    }
   ],
   "source": [
    "y_test"
   ]
  },
  {
   "cell_type": "code",
   "execution_count": 67,
   "id": "4a3edef1",
   "metadata": {
    "scrolled": true
   },
   "outputs": [
    {
     "name": "stdout",
     "output_type": "stream",
     "text": [
      "Mean Squared Error: 2.312598482338396e-33\n"
     ]
    }
   ],
   "source": [
    "# Evaluate the model\n",
    "mse = mean_squared_error(y_test, y_pred)\n",
    "print('Mean Squared Error:', mse)"
   ]
  },
  {
   "cell_type": "markdown",
   "id": "519ca83c",
   "metadata": {},
   "source": [
    "e-33\" indicates that the value should be multiplied by 10 raised to the power of -33."
   ]
  },
  {
   "cell_type": "markdown",
   "id": "c447f2b8",
   "metadata": {},
   "source": [
    "2.044560350258077 * 10^(-33)"
   ]
  },
  {
   "cell_type": "markdown",
   "id": "e9c61859",
   "metadata": {},
   "source": [
    "The mean squared error (MSE) calculated for the regression model is extremely low, as indicated by the value of2.044560350258077e-33. This value is close to zero, which suggests that the predicted values from the model are almost identical to the actual values in the test dataset."
   ]
  },
  {
   "cell_type": "markdown",
   "id": "83f76e63",
   "metadata": {},
   "source": [
    "Such a low MSE indicates that the regression model is performing exceptionally well in predicting the satisfaction score based on the given features (engagement score and experience score). The model seems to capture the underlying patterns and relationships in the data with very high accuracy."
   ]
  },
  {
   "cell_type": "code",
   "execution_count": 68,
   "id": "e4410922",
   "metadata": {},
   "outputs": [],
   "source": [
    "from sklearn.metrics import mean_absolute_error\n"
   ]
  },
  {
   "cell_type": "code",
   "execution_count": 69,
   "id": "66013708",
   "metadata": {},
   "outputs": [],
   "source": [
    "# Calculate MAE\n",
    "mae = mean_absolute_error(y_test, y_pred)"
   ]
  },
  {
   "cell_type": "code",
   "execution_count": 70,
   "id": "982670bf",
   "metadata": {},
   "outputs": [
    {
     "name": "stdout",
     "output_type": "stream",
     "text": [
      "Mean Absolute Error (MAE): 3.014173860861574e-17\n"
     ]
    }
   ],
   "source": [
    "print(\"Mean Absolute Error (MAE):\", mae)"
   ]
  },
  {
   "cell_type": "markdown",
   "id": "fecd5a32",
   "metadata": {},
   "source": [
    "The Mean Absolute Error (MAE) value you provided, 4.088690148975346e-17, is an extremely small number, close to zero. In scientific notation, the \"e-17\" indicates that the value should be multiplied by 10 raised to the power of -17.\n",
    "\n",
    "Such a low MAE suggests that the predicted values are nearly identical to the actual values. It indicates a very high level of accuracy in the predictions, with an extremely minimal amount of error."
   ]
  },
  {
   "cell_type": "code",
   "execution_count": 71,
   "id": "221d1c7a",
   "metadata": {},
   "outputs": [],
   "source": [
    "from sklearn.metrics import r2_score"
   ]
  },
  {
   "cell_type": "code",
   "execution_count": 72,
   "id": "349fa84e",
   "metadata": {},
   "outputs": [],
   "source": [
    "r2 = r2_score(y_test, y_pred)"
   ]
  },
  {
   "cell_type": "code",
   "execution_count": 73,
   "id": "e656221d",
   "metadata": {},
   "outputs": [
    {
     "name": "stdout",
     "output_type": "stream",
     "text": [
      "R-squared: 1.0\n"
     ]
    }
   ],
   "source": [
    "print(\"R-squared:\", r2)"
   ]
  },
  {
   "cell_type": "markdown",
   "id": "5d44f95b",
   "metadata": {},
   "source": [
    "If you have obtained an R-squared value of 1.0 for your linear model, it indicates that the model perfectly fits the data. An R-squared of 1.0 means that the model explains all the variability in the dependent variable (y) using the independent variable(s) (X)."
   ]
  },
  {
   "cell_type": "markdown",
   "id": "4e99dfda",
   "metadata": {},
   "source": [
    "However, it is important to consider the context and potential limitations. It is possible that the perfect fit is due to overfitting, especially as the model has been trained and tested on the same dataset. "
   ]
  },
  {
   "cell_type": "markdown",
   "id": "b66ec0de",
   "metadata": {},
   "source": [
    "# Task 4.4\n",
    "\n",
    "### Run a k-means (k=2) on the engagement & the experience score"
   ]
  },
  {
   "cell_type": "code",
   "execution_count": 74,
   "id": "e1bf9a01",
   "metadata": {},
   "outputs": [],
   "source": [
    "from sklearn.cluster import KMeans"
   ]
  },
  {
   "cell_type": "code",
   "execution_count": 75,
   "id": "92aa17e5",
   "metadata": {},
   "outputs": [],
   "source": [
    "# Prepare the data for clustering\n",
    "data = BB[['Engagement Score', 'Experience Score']]\n",
    "X = data.values"
   ]
  },
  {
   "cell_type": "code",
   "execution_count": 76,
   "id": "c7d9d2b0",
   "metadata": {},
   "outputs": [
    {
     "data": {
      "text/plain": [
       "KMeans(n_clusters=2, random_state=42)"
      ]
     },
     "execution_count": 76,
     "metadata": {},
     "output_type": "execute_result"
    }
   ],
   "source": [
    "# Run K-means clustering\n",
    "k = 2\n",
    "kmeans = KMeans(n_clusters=k, random_state=42)\n",
    "kmeans.fit(X)\n"
   ]
  },
  {
   "cell_type": "code",
   "execution_count": 77,
   "id": "9c4e7173",
   "metadata": {},
   "outputs": [],
   "source": [
    "# Get the cluster labels\n",
    "cluster_labels = kmeans.labels_"
   ]
  },
  {
   "cell_type": "code",
   "execution_count": 78,
   "id": "09ec3d31",
   "metadata": {},
   "outputs": [
    {
     "data": {
      "image/png": "[encoded data removed]",
      "text/plain": [
       "<Figure size 640x480 with 1 Axes>"
      ]
     },
     "metadata": {},
     "output_type": "display_data"
    }
   ],
   "source": [
    "# Plot the clusters\n",
    "plt.scatter(X[:, 0], X[:, 1], c=cluster_labels, cmap='viridis')\n",
    "plt.xlabel('Engagement Score')\n",
    "plt.ylabel('Experience Score')\n",
    "plt.title('K-means Clustering (k=2) on Engagement & Experience Scores')\n",
    "plt.show()"
   ]
  },
  {
   "cell_type": "code",
   "execution_count": null,
   "id": "62f144e7",
   "metadata": {},
   "outputs": [],
   "source": []
  },
  {
   "cell_type": "markdown",
   "id": "d8f3b515",
   "metadata": {},
   "source": [
    "# Task 4.5 \n",
    "\n",
    "### Aggregate the average satisfaction & experience score per cluster. "
   ]
  },
  {
   "cell_type": "code",
   "execution_count": 81,
   "id": "603deaf6",
   "metadata": {},
   "outputs": [],
   "source": [
    "# Create a new DataFrame with cluster labels and satisfaction/experience scores\n",
    "cluster_data = pd.DataFrame({'Cluster': cluster_labels, 'Satisfaction Score': BB['Satisfaction Score'], 'Experience Score': BB['Experience Score']})\n",
    "\n"
   ]
  },
  {
   "cell_type": "code",
   "execution_count": 82,
   "id": "b6452e6f",
   "metadata": {},
   "outputs": [],
   "source": [
    "# Calculate the average satisfaction and experience score per cluster\n",
    "cluster_agg = cluster_data.groupby('Cluster').mean()\n",
    "\n"
   ]
  },
  {
   "cell_type": "code",
   "execution_count": 83,
   "id": "a7928313",
   "metadata": {
    "scrolled": true
   },
   "outputs": [
    {
     "data": {
      "text/html": [
       "<div>\n",
       "<style scoped>\n",
       "    .dataframe tbody tr th:only-of-type {\n",
       "        vertical-align: middle;\n",
       "    }\n",
       "\n",
       "    .dataframe tbody tr th {\n",
       "        vertical-align: top;\n",
       "    }\n",
       "\n",
       "    .dataframe thead th {\n",
       "        text-align: right;\n",
       "    }\n",
       "</style>\n",
       "<table border=\"1\" class=\"dataframe\">\n",
       "  <thead>\n",
       "    <tr style=\"text-align: right;\">\n",
       "      <th></th>\n",
       "      <th>Satisfaction Score</th>\n",
       "      <th>Experience Score</th>\n",
       "    </tr>\n",
       "    <tr>\n",
       "      <th>Cluster</th>\n",
       "      <th></th>\n",
       "      <th></th>\n",
       "    </tr>\n",
       "  </thead>\n",
       "  <tbody>\n",
       "    <tr>\n",
       "      <th>0</th>\n",
       "      <td>0.023597</td>\n",
       "      <td>0.023858</td>\n",
       "    </tr>\n",
       "    <tr>\n",
       "      <th>1</th>\n",
       "      <td>0.115909</td>\n",
       "      <td>0.201845</td>\n",
       "    </tr>\n",
       "  </tbody>\n",
       "</table>\n",
       "</div>"
      ],
      "text/plain": [
       "         Satisfaction Score  Experience Score\n",
       "Cluster                                      \n",
       "0                  0.023597          0.023858\n",
       "1                  0.115909          0.201845"
      ]
     },
     "execution_count": 83,
     "metadata": {},
     "output_type": "execute_result"
    }
   ],
   "source": [
    "cluster_agg"
   ]
  },
  {
   "cell_type": "code",
   "execution_count": 84,
   "id": "26e00b2b",
   "metadata": {},
   "outputs": [
    {
     "data": {
      "text/plain": [
       "Index(['Satisfaction Score', 'Experience Score'], dtype='object')"
      ]
     },
     "execution_count": 84,
     "metadata": {},
     "output_type": "execute_result"
    }
   ],
   "source": [
    "cluster_agg.columns"
   ]
  },
  {
   "cell_type": "markdown",
   "id": "7bb3cd10",
   "metadata": {},
   "source": [
    "These scores provide an overview of the average satisfaction and experience levels within each cluster. Cluster 0 has higher average scores compared to Cluster 1, indicating potentially higher satisfaction and better experiences for customers in Cluster 1."
   ]
  },
  {
   "cell_type": "code",
   "execution_count": 85,
   "id": "2bbba3bd",
   "metadata": {},
   "outputs": [
    {
     "data": {
      "image/png": "[encoded data removed]",
      "text/plain": [
       "<Figure size 800x600 with 1 Axes>"
      ]
     },
     "metadata": {},
     "output_type": "display_data"
    },
    {
     "data": {
      "image/png": "[encoded data removed]",
      "text/plain": [
       "<Figure size 800x600 with 1 Axes>"
      ]
     },
     "metadata": {},
     "output_type": "display_data"
    }
   ],
   "source": [
    "# Define the cluster labels and average scores\n",
    "cluster_labels = ['Cluster 0', 'Cluster 1']\n",
    "avg_satisfaction_scores = cluster_agg['Satisfaction Score']\n",
    "avg_experience_scores =cluster_agg['Experience Score']\n",
    "\n",
    "# Plot the average satisfaction scores\n",
    "plt.figure(figsize=(8, 6))\n",
    "plt.bar(cluster_labels, avg_satisfaction_scores, color='blue')\n",
    "plt.xlabel('Cluster')\n",
    "plt.ylabel('Average Satisfaction Score')\n",
    "plt.title('Average Satisfaction Score per Cluster')\n",
    "\n",
    "# Display the plot\n",
    "plt.show()\n",
    "\n",
    "# Plot the average experience scores\n",
    "plt.figure(figsize=(8, 6))\n",
    "plt.bar(cluster_labels, avg_experience_scores, color='green')\n",
    "plt.xlabel('Cluster')\n",
    "plt.ylabel('Average Experience Score')\n",
    "plt.title('Average Experience Score per Cluster')\n",
    "\n",
    "# Display the plot\n",
    "plt.show()"
   ]
  },
  {
   "cell_type": "code",
   "execution_count": 87,
   "id": "b2c5cd1a",
   "metadata": {},
   "outputs": [
    {
     "data": {
      "text/html": [
       "<div>\n",
       "<style scoped>\n",
       "    .dataframe tbody tr th:only-of-type {\n",
       "        vertical-align: middle;\n",
       "    }\n",
       "\n",
       "    .dataframe tbody tr th {\n",
       "        vertical-align: top;\n",
       "    }\n",
       "\n",
       "    .dataframe thead th {\n",
       "        text-align: right;\n",
       "    }\n",
       "</style>\n",
       "<table border=\"1\" class=\"dataframe\">\n",
       "  <thead>\n",
       "    <tr style=\"text-align: right;\">\n",
       "      <th></th>\n",
       "      <th>MSISDN/Number</th>\n",
       "      <th>Engagement Score</th>\n",
       "      <th>Experience Score</th>\n",
       "      <th>Satisfaction Score</th>\n",
       "    </tr>\n",
       "  </thead>\n",
       "  <tbody>\n",
       "    <tr>\n",
       "      <th>0</th>\n",
       "      <td>3.360100e+10</td>\n",
       "      <td>0.023263</td>\n",
       "      <td>0.014054</td>\n",
       "      <td>0.018659</td>\n",
       "    </tr>\n",
       "    <tr>\n",
       "      <th>1</th>\n",
       "      <td>3.360100e+10</td>\n",
       "      <td>0.025866</td>\n",
       "      <td>0.013986</td>\n",
       "      <td>0.019926</td>\n",
       "    </tr>\n",
       "    <tr>\n",
       "      <th>2</th>\n",
       "      <td>3.360100e+10</td>\n",
       "      <td>0.003463</td>\n",
       "      <td>0.013948</td>\n",
       "      <td>0.008706</td>\n",
       "    </tr>\n",
       "    <tr>\n",
       "      <th>3</th>\n",
       "      <td>3.360101e+10</td>\n",
       "      <td>0.007416</td>\n",
       "      <td>0.013556</td>\n",
       "      <td>0.010486</td>\n",
       "    </tr>\n",
       "    <tr>\n",
       "      <th>4</th>\n",
       "      <td>3.360101e+10</td>\n",
       "      <td>0.064265</td>\n",
       "      <td>0.082802</td>\n",
       "      <td>0.073534</td>\n",
       "    </tr>\n",
       "    <tr>\n",
       "      <th>...</th>\n",
       "      <td>...</td>\n",
       "      <td>...</td>\n",
       "      <td>...</td>\n",
       "      <td>...</td>\n",
       "    </tr>\n",
       "    <tr>\n",
       "      <th>106851</th>\n",
       "      <td>3.379000e+10</td>\n",
       "      <td>0.012226</td>\n",
       "      <td>0.020273</td>\n",
       "      <td>0.016250</td>\n",
       "    </tr>\n",
       "    <tr>\n",
       "      <th>106852</th>\n",
       "      <td>3.379000e+10</td>\n",
       "      <td>0.003158</td>\n",
       "      <td>0.013920</td>\n",
       "      <td>0.008539</td>\n",
       "    </tr>\n",
       "    <tr>\n",
       "      <th>106853</th>\n",
       "      <td>3.197020e+12</td>\n",
       "      <td>0.032339</td>\n",
       "      <td>0.014281</td>\n",
       "      <td>0.023310</td>\n",
       "    </tr>\n",
       "    <tr>\n",
       "      <th>106854</th>\n",
       "      <td>3.370000e+14</td>\n",
       "      <td>0.005387</td>\n",
       "      <td>0.014170</td>\n",
       "      <td>0.009778</td>\n",
       "    </tr>\n",
       "    <tr>\n",
       "      <th>106855</th>\n",
       "      <td>8.823970e+14</td>\n",
       "      <td>0.036717</td>\n",
       "      <td>0.014277</td>\n",
       "      <td>0.025497</td>\n",
       "    </tr>\n",
       "  </tbody>\n",
       "</table>\n",
       "<p>106856 rows × 4 columns</p>\n",
       "</div>"
      ],
      "text/plain": [
       "        MSISDN/Number  Engagement Score  Experience Score  Satisfaction Score\n",
       "0        3.360100e+10          0.023263          0.014054            0.018659\n",
       "1        3.360100e+10          0.025866          0.013986            0.019926\n",
       "2        3.360100e+10          0.003463          0.013948            0.008706\n",
       "3        3.360101e+10          0.007416          0.013556            0.010486\n",
       "4        3.360101e+10          0.064265          0.082802            0.073534\n",
       "...               ...               ...               ...                 ...\n",
       "106851   3.379000e+10          0.012226          0.020273            0.016250\n",
       "106852   3.379000e+10          0.003158          0.013920            0.008539\n",
       "106853   3.197020e+12          0.032339          0.014281            0.023310\n",
       "106854   3.370000e+14          0.005387          0.014170            0.009778\n",
       "106855   8.823970e+14          0.036717          0.014277            0.025497\n",
       "\n",
       "[106856 rows x 4 columns]"
      ]
     },
     "execution_count": 87,
     "metadata": {},
     "output_type": "execute_result"
    }
   ],
   "source": [
    "BB"
   ]
  },
  {
   "cell_type": "code",
   "execution_count": null,
   "id": "a3e87a0f",
   "metadata": {},
   "outputs": [],
   "source": []
  },
  {
   "cell_type": "code",
   "execution_count": null,
   "id": "2cecb02f",
   "metadata": {},
   "outputs": [],
   "source": []
  },
  {
   "cell_type": "code",
   "execution_count": null,
   "id": "037aac3a",
   "metadata": {},
   "outputs": [],
   "source": []
  }
 ],
 "metadata": {
  "kernelspec": {
   "display_name": "Python 3 (ipykernel)",
   "language": "python",
   "name": "python3"
  },
  "language_info": {
   "codemirror_mode": {
    "name": "ipython",
    "version": 3
   },
   "file_extension": ".py",
   "mimetype": "text/x-python",
   "name": "python",
   "nbconvert_exporter": "python",
   "pygments_lexer": "ipython3",
   "version": "3.9.13"
  }
 },
 "nbformat": 4,
 "nbformat_minor": 5
}
